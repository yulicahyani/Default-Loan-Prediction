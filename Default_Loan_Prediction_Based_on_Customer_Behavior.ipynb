{
  "nbformat": 4,
  "nbformat_minor": 0,
  "metadata": {
    "colab": {
      "name": "Default Loan Prediction Based on Customer Behavior.ipynb",
      "provenance": [],
      "collapsed_sections": [],
      "toc_visible": true
    },
    "kernelspec": {
      "name": "python3",
      "display_name": "Python 3"
    },
    "language_info": {
      "name": "python"
    }
  },
  "cells": [
    {
      "cell_type": "markdown",
      "source": [
        "# **DEFAULT LOAN PREDICTION BASSED ON CUSTOMER BEHAVIOR**\n",
        "\n",
        "---\n",
        "\n",
        "By : Ni Made Yuli Cahyani\n",
        "\n",
        "**Goals of The Project:**\n",
        "*   Learn how to predict who possible defaulters are for the Consumer Loans Product\n",
        "*   Learn how to explore data, preprocessing data and implement some various machine laerning methods and analyze their performances\n",
        "\n"
      ],
      "metadata": {
        "id": "Fcojjj-uzn4j"
      }
    },
    {
      "cell_type": "markdown",
      "source": [
        "![loan-cover](https://user-images.githubusercontent.com/71582007/176078145-dc188004-478e-4e62-b1e4-67e5a8752d49.jpg)"
      ],
      "metadata": {
        "id": "-xMMQTsB0HqC"
      }
    },
    {
      "cell_type": "markdown",
      "source": [
        "**About Dataset:**\n",
        "\n",
        "Dataset that used in this project is from Kaggle belongs to Hackathon organized by Univ.AI. This dataset contain data about historic customer behavior based on what have observed. Hence when an organization acquire new customers they want to predict who is riskier and who is not.\n",
        "\n",
        " | About                   | Description                                                                               |\n",
        "  | ----------------------- | --------------------------------------------------------------------------------------- |\n",
        "  | Source                  | Loan Prediction Based on Customer Behavior : [Kaggle](https://www.kaggle.com/datasets/subhamjain/loan-prediction-based-on-customer-behavior) |\n",
        "  | Dataset Owner           | Subham Surana                                                                           |\n",
        "  | Lisensi                 | Other (specified in description)                                                     |\n",
        "  | Category                | Finance, Banking           |\n",
        "  | Usability       | 10.00(Gold)                                                                            |\n",
        "  | File type and size | CSV (22.52 MiB)   \n",
        "\n",
        "\n",
        "\n",
        "The following are the variables provided in the dataset:\n",
        "* **Income** - Income of the user - int\n",
        "* **Age** - Age of the user - int\n",
        "* **Experience** -\tProfessional experience of the user in years -\tint\n",
        "* **Married/Single** -\tWhether married or single -\tstring\n",
        "* **House_Ownership** -\tOwned or rented or neither -\tstring\n",
        "* **Car_Ownership** -\tDoes the person own a car -\tstring\n",
        "* **Profession** -\tProfession -\tstring\n",
        "* **CITY** -\tCity of residence -\tstring\n",
        "* **STATE** -\tState of residence -\tstring\n",
        "* **CURRENT_JOB_YRS**\t- Years of experience in the current job -\tint\n",
        "* **CURRENT_HOUSE_YRS** -\tNumber of years in the current residence -\tint\n",
        "* **Risk_Flag** -\tDefaulted on a loan. The Risk_Flag indicates whether there has been a default in the past or not. 'Non Defaulter' encoded as 0, and 'Defaulter' encoded as 1 -\tstring\n",
        "\n",
        "\n",
        "\n"
      ],
      "metadata": {
        "id": "40yTeCb3eV_L"
      }
    },
    {
      "cell_type": "markdown",
      "source": [
        "# **Import Libraries**"
      ],
      "metadata": {
        "id": "rBAXm_aV3ZsZ"
      }
    },
    {
      "cell_type": "code",
      "source": [
        "!pip install opendatasets --quiet"
      ],
      "metadata": {
        "id": "RhXcxLb_QuAh"
      },
      "execution_count": 1,
      "outputs": []
    },
    {
      "cell_type": "code",
      "source": [
        "import warnings\n",
        "warnings.filterwarnings('ignore')\n",
        "import opendatasets as od\n",
        "import pandas as pd\n",
        "import numpy as np\n",
        "import seaborn as sns\n",
        "import matplotlib.pyplot as plt\n",
        "from sklearn.preprocessing import LabelEncoder\n",
        "from sklearn.preprocessing import StandardScaler\n",
        "from imblearn.over_sampling import RandomOverSampler\n",
        "from collections import Counter\n",
        "from sklearn. model_selection import train_test_split\n",
        "from sklearn.metrics import f1_score, accuracy_score, precision_score, recall_score,classification_report,plot_confusion_matrix,roc_auc_score\n",
        "from sklearn.tree import DecisionTreeClassifier\n",
        "from sklearn.linear_model import LogisticRegression\n",
        "from sklearn.neighbors import KNeighborsClassifier\n",
        "from xgboost.sklearn import XGBClassifier\n",
        "from sklearn.ensemble import RandomForestClassifier\n",
        "from sklearn.naive_bayes import GaussianNB\n",
        "from sklearn.neural_network import MLPClassifier\n",
        "from tensorflow import keras\n",
        "import tensorboard as tf\n",
        "from sklearn.metrics import confusion_matrix"
      ],
      "metadata": {
        "id": "GTxDhs4oQxK6"
      },
      "execution_count": 2,
      "outputs": []
    },
    {
      "cell_type": "markdown",
      "source": [
        "# **Download & Loading Data**"
      ],
      "metadata": {
        "id": "hWXa9xle3hl9"
      }
    },
    {
      "cell_type": "code",
      "source": [
        "download_url = 'https://www.kaggle.com/datasets/subhamjain/loan-prediction-based-on-customer-behavior'\n",
        "\n",
        "od.download(download_url)"
      ],
      "metadata": {
        "colab": {
          "base_uri": "https://localhost:8080/"
        },
        "id": "mJZHKKO3Azt1",
        "outputId": "7ee64155-3d4e-4c77-9fc4-892410eac9df"
      },
      "execution_count": 3,
      "outputs": [
        {
          "output_type": "stream",
          "name": "stdout",
          "text": [
            "Please provide your Kaggle credentials to download this dataset. Learn more: http://bit.ly/kaggle-creds\n",
            "Your Kaggle username: yulicahyani\n",
            "Your Kaggle Key: ··········\n",
            "Downloading loan-prediction-based-on-customer-behavior.zip to ./loan-prediction-based-on-customer-behavior\n"
          ]
        },
        {
          "output_type": "stream",
          "name": "stderr",
          "text": [
            "100%|██████████| 5.15M/5.15M [00:00<00:00, 43.2MB/s]"
          ]
        },
        {
          "output_type": "stream",
          "name": "stdout",
          "text": [
            "\n"
          ]
        },
        {
          "output_type": "stream",
          "name": "stderr",
          "text": [
            "\n"
          ]
        }
      ]
    },
    {
      "cell_type": "code",
      "source": [
        "df = pd.read_csv(\"/content/loan-prediction-based-on-customer-behavior/Training Data.csv\")"
      ],
      "metadata": {
        "id": "-qIBpD1sBUwU"
      },
      "execution_count": 4,
      "outputs": []
    },
    {
      "cell_type": "markdown",
      "source": [
        "# **Exploratory Data Analysis and Visualization**"
      ],
      "metadata": {
        "id": "n5XLHBOM4E1v"
      }
    },
    {
      "cell_type": "markdown",
      "source": [
        "## Dataset Summary"
      ],
      "metadata": {
        "id": "jZsjdMCH50v2"
      }
    },
    {
      "cell_type": "code",
      "source": [
        "df.head()"
      ],
      "metadata": {
        "colab": {
          "base_uri": "https://localhost:8080/",
          "height": 270
        },
        "id": "SRLN8ZKPBj9d",
        "outputId": "84049e5c-4ad8-467b-a1e2-79ecf0ea31dd"
      },
      "execution_count": null,
      "outputs": [
        {
          "output_type": "execute_result",
          "data": {
            "text/plain": [
              "   Id   Income  Age  Experience Married/Single House_Ownership Car_Ownership  \\\n",
              "0   1  1303834   23           3         single          rented            no   \n",
              "1   2  7574516   40          10         single          rented            no   \n",
              "2   3  3991815   66           4        married          rented            no   \n",
              "3   4  6256451   41           2         single          rented           yes   \n",
              "4   5  5768871   47          11         single          rented            no   \n",
              "\n",
              "            Profession                 CITY           STATE  CURRENT_JOB_YRS  \\\n",
              "0  Mechanical_engineer                 Rewa  Madhya_Pradesh                3   \n",
              "1   Software_Developer             Parbhani     Maharashtra                9   \n",
              "2     Technical_writer            Alappuzha          Kerala                4   \n",
              "3   Software_Developer          Bhubaneswar          Odisha                2   \n",
              "4        Civil_servant  Tiruchirappalli[10]      Tamil_Nadu                3   \n",
              "\n",
              "   CURRENT_HOUSE_YRS  Risk_Flag  \n",
              "0                 13          0  \n",
              "1                 13          0  \n",
              "2                 10          0  \n",
              "3                 12          1  \n",
              "4                 14          1  "
            ],
            "text/html": [
              "\n",
              "  <div id=\"df-66757227-7073-4294-9587-db4de53d7cdf\">\n",
              "    <div class=\"colab-df-container\">\n",
              "      <div>\n",
              "<style scoped>\n",
              "    .dataframe tbody tr th:only-of-type {\n",
              "        vertical-align: middle;\n",
              "    }\n",
              "\n",
              "    .dataframe tbody tr th {\n",
              "        vertical-align: top;\n",
              "    }\n",
              "\n",
              "    .dataframe thead th {\n",
              "        text-align: right;\n",
              "    }\n",
              "</style>\n",
              "<table border=\"1\" class=\"dataframe\">\n",
              "  <thead>\n",
              "    <tr style=\"text-align: right;\">\n",
              "      <th></th>\n",
              "      <th>Id</th>\n",
              "      <th>Income</th>\n",
              "      <th>Age</th>\n",
              "      <th>Experience</th>\n",
              "      <th>Married/Single</th>\n",
              "      <th>House_Ownership</th>\n",
              "      <th>Car_Ownership</th>\n",
              "      <th>Profession</th>\n",
              "      <th>CITY</th>\n",
              "      <th>STATE</th>\n",
              "      <th>CURRENT_JOB_YRS</th>\n",
              "      <th>CURRENT_HOUSE_YRS</th>\n",
              "      <th>Risk_Flag</th>\n",
              "    </tr>\n",
              "  </thead>\n",
              "  <tbody>\n",
              "    <tr>\n",
              "      <th>0</th>\n",
              "      <td>1</td>\n",
              "      <td>1303834</td>\n",
              "      <td>23</td>\n",
              "      <td>3</td>\n",
              "      <td>single</td>\n",
              "      <td>rented</td>\n",
              "      <td>no</td>\n",
              "      <td>Mechanical_engineer</td>\n",
              "      <td>Rewa</td>\n",
              "      <td>Madhya_Pradesh</td>\n",
              "      <td>3</td>\n",
              "      <td>13</td>\n",
              "      <td>0</td>\n",
              "    </tr>\n",
              "    <tr>\n",
              "      <th>1</th>\n",
              "      <td>2</td>\n",
              "      <td>7574516</td>\n",
              "      <td>40</td>\n",
              "      <td>10</td>\n",
              "      <td>single</td>\n",
              "      <td>rented</td>\n",
              "      <td>no</td>\n",
              "      <td>Software_Developer</td>\n",
              "      <td>Parbhani</td>\n",
              "      <td>Maharashtra</td>\n",
              "      <td>9</td>\n",
              "      <td>13</td>\n",
              "      <td>0</td>\n",
              "    </tr>\n",
              "    <tr>\n",
              "      <th>2</th>\n",
              "      <td>3</td>\n",
              "      <td>3991815</td>\n",
              "      <td>66</td>\n",
              "      <td>4</td>\n",
              "      <td>married</td>\n",
              "      <td>rented</td>\n",
              "      <td>no</td>\n",
              "      <td>Technical_writer</td>\n",
              "      <td>Alappuzha</td>\n",
              "      <td>Kerala</td>\n",
              "      <td>4</td>\n",
              "      <td>10</td>\n",
              "      <td>0</td>\n",
              "    </tr>\n",
              "    <tr>\n",
              "      <th>3</th>\n",
              "      <td>4</td>\n",
              "      <td>6256451</td>\n",
              "      <td>41</td>\n",
              "      <td>2</td>\n",
              "      <td>single</td>\n",
              "      <td>rented</td>\n",
              "      <td>yes</td>\n",
              "      <td>Software_Developer</td>\n",
              "      <td>Bhubaneswar</td>\n",
              "      <td>Odisha</td>\n",
              "      <td>2</td>\n",
              "      <td>12</td>\n",
              "      <td>1</td>\n",
              "    </tr>\n",
              "    <tr>\n",
              "      <th>4</th>\n",
              "      <td>5</td>\n",
              "      <td>5768871</td>\n",
              "      <td>47</td>\n",
              "      <td>11</td>\n",
              "      <td>single</td>\n",
              "      <td>rented</td>\n",
              "      <td>no</td>\n",
              "      <td>Civil_servant</td>\n",
              "      <td>Tiruchirappalli[10]</td>\n",
              "      <td>Tamil_Nadu</td>\n",
              "      <td>3</td>\n",
              "      <td>14</td>\n",
              "      <td>1</td>\n",
              "    </tr>\n",
              "  </tbody>\n",
              "</table>\n",
              "</div>\n",
              "      <button class=\"colab-df-convert\" onclick=\"convertToInteractive('df-66757227-7073-4294-9587-db4de53d7cdf')\"\n",
              "              title=\"Convert this dataframe to an interactive table.\"\n",
              "              style=\"display:none;\">\n",
              "        \n",
              "  <svg xmlns=\"http://www.w3.org/2000/svg\" height=\"24px\"viewBox=\"0 0 24 24\"\n",
              "       width=\"24px\">\n",
              "    <path d=\"M0 0h24v24H0V0z\" fill=\"none\"/>\n",
              "    <path d=\"M18.56 5.44l.94 2.06.94-2.06 2.06-.94-2.06-.94-.94-2.06-.94 2.06-2.06.94zm-11 1L8.5 8.5l.94-2.06 2.06-.94-2.06-.94L8.5 2.5l-.94 2.06-2.06.94zm10 10l.94 2.06.94-2.06 2.06-.94-2.06-.94-.94-2.06-.94 2.06-2.06.94z\"/><path d=\"M17.41 7.96l-1.37-1.37c-.4-.4-.92-.59-1.43-.59-.52 0-1.04.2-1.43.59L10.3 9.45l-7.72 7.72c-.78.78-.78 2.05 0 2.83L4 21.41c.39.39.9.59 1.41.59.51 0 1.02-.2 1.41-.59l7.78-7.78 2.81-2.81c.8-.78.8-2.07 0-2.86zM5.41 20L4 18.59l7.72-7.72 1.47 1.35L5.41 20z\"/>\n",
              "  </svg>\n",
              "      </button>\n",
              "      \n",
              "  <style>\n",
              "    .colab-df-container {\n",
              "      display:flex;\n",
              "      flex-wrap:wrap;\n",
              "      gap: 12px;\n",
              "    }\n",
              "\n",
              "    .colab-df-convert {\n",
              "      background-color: #E8F0FE;\n",
              "      border: none;\n",
              "      border-radius: 50%;\n",
              "      cursor: pointer;\n",
              "      display: none;\n",
              "      fill: #1967D2;\n",
              "      height: 32px;\n",
              "      padding: 0 0 0 0;\n",
              "      width: 32px;\n",
              "    }\n",
              "\n",
              "    .colab-df-convert:hover {\n",
              "      background-color: #E2EBFA;\n",
              "      box-shadow: 0px 1px 2px rgba(60, 64, 67, 0.3), 0px 1px 3px 1px rgba(60, 64, 67, 0.15);\n",
              "      fill: #174EA6;\n",
              "    }\n",
              "\n",
              "    [theme=dark] .colab-df-convert {\n",
              "      background-color: #3B4455;\n",
              "      fill: #D2E3FC;\n",
              "    }\n",
              "\n",
              "    [theme=dark] .colab-df-convert:hover {\n",
              "      background-color: #434B5C;\n",
              "      box-shadow: 0px 1px 3px 1px rgba(0, 0, 0, 0.15);\n",
              "      filter: drop-shadow(0px 1px 2px rgba(0, 0, 0, 0.3));\n",
              "      fill: #FFFFFF;\n",
              "    }\n",
              "  </style>\n",
              "\n",
              "      <script>\n",
              "        const buttonEl =\n",
              "          document.querySelector('#df-66757227-7073-4294-9587-db4de53d7cdf button.colab-df-convert');\n",
              "        buttonEl.style.display =\n",
              "          google.colab.kernel.accessAllowed ? 'block' : 'none';\n",
              "\n",
              "        async function convertToInteractive(key) {\n",
              "          const element = document.querySelector('#df-66757227-7073-4294-9587-db4de53d7cdf');\n",
              "          const dataTable =\n",
              "            await google.colab.kernel.invokeFunction('convertToInteractive',\n",
              "                                                     [key], {});\n",
              "          if (!dataTable) return;\n",
              "\n",
              "          const docLinkHtml = 'Like what you see? Visit the ' +\n",
              "            '<a target=\"_blank\" href=https://colab.research.google.com/notebooks/data_table.ipynb>data table notebook</a>'\n",
              "            + ' to learn more about interactive tables.';\n",
              "          element.innerHTML = '';\n",
              "          dataTable['output_type'] = 'display_data';\n",
              "          await google.colab.output.renderOutput(dataTable, element);\n",
              "          const docLink = document.createElement('div');\n",
              "          docLink.innerHTML = docLinkHtml;\n",
              "          element.appendChild(docLink);\n",
              "        }\n",
              "      </script>\n",
              "    </div>\n",
              "  </div>\n",
              "  "
            ]
          },
          "metadata": {},
          "execution_count": 5
        }
      ]
    },
    {
      "cell_type": "code",
      "source": [
        "df.shape"
      ],
      "metadata": {
        "colab": {
          "base_uri": "https://localhost:8080/"
        },
        "id": "4kZapi21B4-Q",
        "outputId": "05cf9802-367e-4030-f679-167c5d452a55"
      },
      "execution_count": null,
      "outputs": [
        {
          "output_type": "execute_result",
          "data": {
            "text/plain": [
              "(252000, 13)"
            ]
          },
          "metadata": {},
          "execution_count": 6
        }
      ]
    },
    {
      "cell_type": "code",
      "source": [
        "df.info()"
      ],
      "metadata": {
        "colab": {
          "base_uri": "https://localhost:8080/"
        },
        "id": "DMd1df27B9WP",
        "outputId": "d52e02d8-3fe3-49c3-82d0-ffaab19d4d86"
      },
      "execution_count": null,
      "outputs": [
        {
          "output_type": "stream",
          "name": "stdout",
          "text": [
            "<class 'pandas.core.frame.DataFrame'>\n",
            "RangeIndex: 252000 entries, 0 to 251999\n",
            "Data columns (total 13 columns):\n",
            " #   Column             Non-Null Count   Dtype \n",
            "---  ------             --------------   ----- \n",
            " 0   Id                 252000 non-null  int64 \n",
            " 1   Income             252000 non-null  int64 \n",
            " 2   Age                252000 non-null  int64 \n",
            " 3   Experience         252000 non-null  int64 \n",
            " 4   Married/Single     252000 non-null  object\n",
            " 5   House_Ownership    252000 non-null  object\n",
            " 6   Car_Ownership      252000 non-null  object\n",
            " 7   Profession         252000 non-null  object\n",
            " 8   CITY               252000 non-null  object\n",
            " 9   STATE              252000 non-null  object\n",
            " 10  CURRENT_JOB_YRS    252000 non-null  int64 \n",
            " 11  CURRENT_HOUSE_YRS  252000 non-null  int64 \n",
            " 12  Risk_Flag          252000 non-null  int64 \n",
            "dtypes: int64(7), object(6)\n",
            "memory usage: 25.0+ MB\n"
          ]
        }
      ]
    },
    {
      "cell_type": "code",
      "source": [
        "df.describe()"
      ],
      "metadata": {
        "colab": {
          "base_uri": "https://localhost:8080/",
          "height": 301
        },
        "id": "Ojn0HqzPCB3p",
        "outputId": "902a4523-a67b-45b4-d99f-f103c9e578f5"
      },
      "execution_count": null,
      "outputs": [
        {
          "output_type": "execute_result",
          "data": {
            "text/plain": [
              "                  Id        Income            Age     Experience  \\\n",
              "count  252000.000000  2.520000e+05  252000.000000  252000.000000   \n",
              "mean   126000.500000  4.997117e+06      49.954071      10.084437   \n",
              "std     72746.278255  2.878311e+06      17.063855       6.002590   \n",
              "min         1.000000  1.031000e+04      21.000000       0.000000   \n",
              "25%     63000.750000  2.503015e+06      35.000000       5.000000   \n",
              "50%    126000.500000  5.000694e+06      50.000000      10.000000   \n",
              "75%    189000.250000  7.477502e+06      65.000000      15.000000   \n",
              "max    252000.000000  9.999938e+06      79.000000      20.000000   \n",
              "\n",
              "       CURRENT_JOB_YRS  CURRENT_HOUSE_YRS      Risk_Flag  \n",
              "count    252000.000000      252000.000000  252000.000000  \n",
              "mean          6.333877          11.997794       0.123000  \n",
              "std           3.647053           1.399037       0.328438  \n",
              "min           0.000000          10.000000       0.000000  \n",
              "25%           3.000000          11.000000       0.000000  \n",
              "50%           6.000000          12.000000       0.000000  \n",
              "75%           9.000000          13.000000       0.000000  \n",
              "max          14.000000          14.000000       1.000000  "
            ],
            "text/html": [
              "\n",
              "  <div id=\"df-67fa54c0-6e93-407a-b4b8-cd767d765e41\">\n",
              "    <div class=\"colab-df-container\">\n",
              "      <div>\n",
              "<style scoped>\n",
              "    .dataframe tbody tr th:only-of-type {\n",
              "        vertical-align: middle;\n",
              "    }\n",
              "\n",
              "    .dataframe tbody tr th {\n",
              "        vertical-align: top;\n",
              "    }\n",
              "\n",
              "    .dataframe thead th {\n",
              "        text-align: right;\n",
              "    }\n",
              "</style>\n",
              "<table border=\"1\" class=\"dataframe\">\n",
              "  <thead>\n",
              "    <tr style=\"text-align: right;\">\n",
              "      <th></th>\n",
              "      <th>Id</th>\n",
              "      <th>Income</th>\n",
              "      <th>Age</th>\n",
              "      <th>Experience</th>\n",
              "      <th>CURRENT_JOB_YRS</th>\n",
              "      <th>CURRENT_HOUSE_YRS</th>\n",
              "      <th>Risk_Flag</th>\n",
              "    </tr>\n",
              "  </thead>\n",
              "  <tbody>\n",
              "    <tr>\n",
              "      <th>count</th>\n",
              "      <td>252000.000000</td>\n",
              "      <td>2.520000e+05</td>\n",
              "      <td>252000.000000</td>\n",
              "      <td>252000.000000</td>\n",
              "      <td>252000.000000</td>\n",
              "      <td>252000.000000</td>\n",
              "      <td>252000.000000</td>\n",
              "    </tr>\n",
              "    <tr>\n",
              "      <th>mean</th>\n",
              "      <td>126000.500000</td>\n",
              "      <td>4.997117e+06</td>\n",
              "      <td>49.954071</td>\n",
              "      <td>10.084437</td>\n",
              "      <td>6.333877</td>\n",
              "      <td>11.997794</td>\n",
              "      <td>0.123000</td>\n",
              "    </tr>\n",
              "    <tr>\n",
              "      <th>std</th>\n",
              "      <td>72746.278255</td>\n",
              "      <td>2.878311e+06</td>\n",
              "      <td>17.063855</td>\n",
              "      <td>6.002590</td>\n",
              "      <td>3.647053</td>\n",
              "      <td>1.399037</td>\n",
              "      <td>0.328438</td>\n",
              "    </tr>\n",
              "    <tr>\n",
              "      <th>min</th>\n",
              "      <td>1.000000</td>\n",
              "      <td>1.031000e+04</td>\n",
              "      <td>21.000000</td>\n",
              "      <td>0.000000</td>\n",
              "      <td>0.000000</td>\n",
              "      <td>10.000000</td>\n",
              "      <td>0.000000</td>\n",
              "    </tr>\n",
              "    <tr>\n",
              "      <th>25%</th>\n",
              "      <td>63000.750000</td>\n",
              "      <td>2.503015e+06</td>\n",
              "      <td>35.000000</td>\n",
              "      <td>5.000000</td>\n",
              "      <td>3.000000</td>\n",
              "      <td>11.000000</td>\n",
              "      <td>0.000000</td>\n",
              "    </tr>\n",
              "    <tr>\n",
              "      <th>50%</th>\n",
              "      <td>126000.500000</td>\n",
              "      <td>5.000694e+06</td>\n",
              "      <td>50.000000</td>\n",
              "      <td>10.000000</td>\n",
              "      <td>6.000000</td>\n",
              "      <td>12.000000</td>\n",
              "      <td>0.000000</td>\n",
              "    </tr>\n",
              "    <tr>\n",
              "      <th>75%</th>\n",
              "      <td>189000.250000</td>\n",
              "      <td>7.477502e+06</td>\n",
              "      <td>65.000000</td>\n",
              "      <td>15.000000</td>\n",
              "      <td>9.000000</td>\n",
              "      <td>13.000000</td>\n",
              "      <td>0.000000</td>\n",
              "    </tr>\n",
              "    <tr>\n",
              "      <th>max</th>\n",
              "      <td>252000.000000</td>\n",
              "      <td>9.999938e+06</td>\n",
              "      <td>79.000000</td>\n",
              "      <td>20.000000</td>\n",
              "      <td>14.000000</td>\n",
              "      <td>14.000000</td>\n",
              "      <td>1.000000</td>\n",
              "    </tr>\n",
              "  </tbody>\n",
              "</table>\n",
              "</div>\n",
              "      <button class=\"colab-df-convert\" onclick=\"convertToInteractive('df-67fa54c0-6e93-407a-b4b8-cd767d765e41')\"\n",
              "              title=\"Convert this dataframe to an interactive table.\"\n",
              "              style=\"display:none;\">\n",
              "        \n",
              "  <svg xmlns=\"http://www.w3.org/2000/svg\" height=\"24px\"viewBox=\"0 0 24 24\"\n",
              "       width=\"24px\">\n",
              "    <path d=\"M0 0h24v24H0V0z\" fill=\"none\"/>\n",
              "    <path d=\"M18.56 5.44l.94 2.06.94-2.06 2.06-.94-2.06-.94-.94-2.06-.94 2.06-2.06.94zm-11 1L8.5 8.5l.94-2.06 2.06-.94-2.06-.94L8.5 2.5l-.94 2.06-2.06.94zm10 10l.94 2.06.94-2.06 2.06-.94-2.06-.94-.94-2.06-.94 2.06-2.06.94z\"/><path d=\"M17.41 7.96l-1.37-1.37c-.4-.4-.92-.59-1.43-.59-.52 0-1.04.2-1.43.59L10.3 9.45l-7.72 7.72c-.78.78-.78 2.05 0 2.83L4 21.41c.39.39.9.59 1.41.59.51 0 1.02-.2 1.41-.59l7.78-7.78 2.81-2.81c.8-.78.8-2.07 0-2.86zM5.41 20L4 18.59l7.72-7.72 1.47 1.35L5.41 20z\"/>\n",
              "  </svg>\n",
              "      </button>\n",
              "      \n",
              "  <style>\n",
              "    .colab-df-container {\n",
              "      display:flex;\n",
              "      flex-wrap:wrap;\n",
              "      gap: 12px;\n",
              "    }\n",
              "\n",
              "    .colab-df-convert {\n",
              "      background-color: #E8F0FE;\n",
              "      border: none;\n",
              "      border-radius: 50%;\n",
              "      cursor: pointer;\n",
              "      display: none;\n",
              "      fill: #1967D2;\n",
              "      height: 32px;\n",
              "      padding: 0 0 0 0;\n",
              "      width: 32px;\n",
              "    }\n",
              "\n",
              "    .colab-df-convert:hover {\n",
              "      background-color: #E2EBFA;\n",
              "      box-shadow: 0px 1px 2px rgba(60, 64, 67, 0.3), 0px 1px 3px 1px rgba(60, 64, 67, 0.15);\n",
              "      fill: #174EA6;\n",
              "    }\n",
              "\n",
              "    [theme=dark] .colab-df-convert {\n",
              "      background-color: #3B4455;\n",
              "      fill: #D2E3FC;\n",
              "    }\n",
              "\n",
              "    [theme=dark] .colab-df-convert:hover {\n",
              "      background-color: #434B5C;\n",
              "      box-shadow: 0px 1px 3px 1px rgba(0, 0, 0, 0.15);\n",
              "      filter: drop-shadow(0px 1px 2px rgba(0, 0, 0, 0.3));\n",
              "      fill: #FFFFFF;\n",
              "    }\n",
              "  </style>\n",
              "\n",
              "      <script>\n",
              "        const buttonEl =\n",
              "          document.querySelector('#df-67fa54c0-6e93-407a-b4b8-cd767d765e41 button.colab-df-convert');\n",
              "        buttonEl.style.display =\n",
              "          google.colab.kernel.accessAllowed ? 'block' : 'none';\n",
              "\n",
              "        async function convertToInteractive(key) {\n",
              "          const element = document.querySelector('#df-67fa54c0-6e93-407a-b4b8-cd767d765e41');\n",
              "          const dataTable =\n",
              "            await google.colab.kernel.invokeFunction('convertToInteractive',\n",
              "                                                     [key], {});\n",
              "          if (!dataTable) return;\n",
              "\n",
              "          const docLinkHtml = 'Like what you see? Visit the ' +\n",
              "            '<a target=\"_blank\" href=https://colab.research.google.com/notebooks/data_table.ipynb>data table notebook</a>'\n",
              "            + ' to learn more about interactive tables.';\n",
              "          element.innerHTML = '';\n",
              "          dataTable['output_type'] = 'display_data';\n",
              "          await google.colab.output.renderOutput(dataTable, element);\n",
              "          const docLink = document.createElement('div');\n",
              "          docLink.innerHTML = docLinkHtml;\n",
              "          element.appendChild(docLink);\n",
              "        }\n",
              "      </script>\n",
              "    </div>\n",
              "  </div>\n",
              "  "
            ]
          },
          "metadata": {},
          "execution_count": 8
        }
      ]
    },
    {
      "cell_type": "code",
      "source": [
        "df.isnull().sum()"
      ],
      "metadata": {
        "colab": {
          "base_uri": "https://localhost:8080/"
        },
        "id": "Gx0pSLPQ2oIr",
        "outputId": "80aa22b3-9566-454e-d3fa-a54053fde9a2"
      },
      "execution_count": null,
      "outputs": [
        {
          "output_type": "execute_result",
          "data": {
            "text/plain": [
              "Id                   0\n",
              "Income               0\n",
              "Age                  0\n",
              "Experience           0\n",
              "Married/Single       0\n",
              "House_Ownership      0\n",
              "Car_Ownership        0\n",
              "Profession           0\n",
              "CITY                 0\n",
              "STATE                0\n",
              "CURRENT_JOB_YRS      0\n",
              "CURRENT_HOUSE_YRS    0\n",
              "Risk_Flag            0\n",
              "dtype: int64"
            ]
          },
          "metadata": {},
          "execution_count": 9
        }
      ]
    },
    {
      "cell_type": "code",
      "source": [
        "df.duplicated().sum()"
      ],
      "metadata": {
        "colab": {
          "base_uri": "https://localhost:8080/"
        },
        "id": "2bcsV_vB3W5w",
        "outputId": "ba55429d-421f-422e-b355-5bda0ae8861f"
      },
      "execution_count": null,
      "outputs": [
        {
          "output_type": "execute_result",
          "data": {
            "text/plain": [
              "0"
            ]
          },
          "metadata": {},
          "execution_count": 10
        }
      ]
    },
    {
      "cell_type": "markdown",
      "source": [
        "According to the basic observation on the dataset:\n",
        "\n",
        "*   The dataset has 13 columns (variables) and has 252,000 observations\n",
        "*   There are some columns that contain numerical values and some columns contain categorical values\n",
        "*   There no missing values\n",
        "*   There seems to be no duplicate data\n",
        "*   Based on the dataset, in this project we are going to make classification model to classify potential loan defaulters on the target variable Risk_Flag"
      ],
      "metadata": {
        "id": "LFC4_m8KWSI9"
      }
    },
    {
      "cell_type": "markdown",
      "source": [
        "## Distribution of Non-Defaulter and Defaulter Customer"
      ],
      "metadata": {
        "id": "ME458cjOdThS"
      }
    },
    {
      "cell_type": "code",
      "source": [
        "risk_flag = df['Risk_Flag'].value_counts()\n",
        "risk_flag"
      ],
      "metadata": {
        "colab": {
          "base_uri": "https://localhost:8080/"
        },
        "id": "kd-ZVcqr8clx",
        "outputId": "db16df6b-d875-4998-ff4d-fd67f8f44012"
      },
      "execution_count": 5,
      "outputs": [
        {
          "output_type": "execute_result",
          "data": {
            "text/plain": [
              "0    221004\n",
              "1     30996\n",
              "Name: Risk_Flag, dtype: int64"
            ]
          },
          "metadata": {},
          "execution_count": 5
        }
      ]
    },
    {
      "cell_type": "code",
      "source": [
        "ax = sns.countplot(x=df['Risk_Flag'])\n",
        "ax.set_title(\" Distribution of  Non-Defaulter and Defaulter Customers\")\n",
        "plt.xlabel('Defaulters')\n",
        "for p in ax.patches:\n",
        "    ax.annotate(str(format(int(p.get_height()), ',d')), (p.get_x(), p.get_height()))"
      ],
      "metadata": {
        "colab": {
          "base_uri": "https://localhost:8080/",
          "height": 295
        },
        "id": "EV8XG3es8-dB",
        "outputId": "823d9e4d-e188-4a02-92a0-d880f1d1469b"
      },
      "execution_count": 6,
      "outputs": [
        {
          "output_type": "display_data",
          "data": {
            "text/plain": [
              "<Figure size 432x288 with 1 Axes>"
            ],
            "image/png": "[encoded data removed]"
          },
          "metadata": {
            "needs_background": "light"
          }
        }
      ]
    },
    {
      "cell_type": "markdown",
      "source": [
        "* Number of non-defaulter customers - 221,004\n",
        "\n",
        "* Number of defaulter customers - 30,996"
      ],
      "metadata": {
        "id": "wMEQdHSEAaPr"
      }
    },
    {
      "cell_type": "code",
      "source": [
        "risk_flag.plot(kind=\"pie\",figsize=(7,7),autopct=\"%1.2f%%\",\n",
        "         shadow=True,labels=['Non-Defaulter','Defaulter'], title=\"Percentage of Non-Defaulter and Defaulter Customer\")\n",
        "plt.xlabel('% of Defaulters')\n",
        "plt.ylabel('')\n",
        "plt.legend(loc='best',bbox_to_anchor=(0.3,0,1,1))\n",
        "plt.show()"
      ],
      "metadata": {
        "colab": {
          "base_uri": "https://localhost:8080/",
          "height": 441
        },
        "id": "MtfTqzTM_Oko",
        "outputId": "69b0e1ec-e3ee-4ca7-ee3e-5e187c4bec16"
      },
      "execution_count": null,
      "outputs": [
        {
          "output_type": "display_data",
          "data": {
            "text/plain": [
              "<Figure size 504x504 with 1 Axes>"
            ],
            "image/png": "[encoded data removed]"
          },
          "metadata": {}
        }
      ]
    },
    {
      "cell_type": "markdown",
      "source": [
        "* The data seem unbalance beetween non-defaulter and defaulter custumer. \n",
        "\n",
        "* The percentage of non-defaulter customers is 87.70% and defaulter customers is 12.30%"
      ],
      "metadata": {
        "id": "-zihFlPgB59l"
      }
    },
    {
      "cell_type": "markdown",
      "source": [
        "## Distribution of Marital Status - 'Married/Single'"
      ],
      "metadata": {
        "id": "zE6FMM8ppxsr"
      }
    },
    {
      "cell_type": "code",
      "source": [
        "status = df['Married/Single'].value_counts()\n",
        "status"
      ],
      "metadata": {
        "colab": {
          "base_uri": "https://localhost:8080/"
        },
        "id": "S5JKUCTECq1D",
        "outputId": "6a705816-a51c-4f46-dad2-91dbcdd889ba"
      },
      "execution_count": null,
      "outputs": [
        {
          "output_type": "execute_result",
          "data": {
            "text/plain": [
              "single     226272\n",
              "married     25728\n",
              "Name: Married/Single, dtype: int64"
            ]
          },
          "metadata": {},
          "execution_count": 14
        }
      ]
    },
    {
      "cell_type": "code",
      "source": [
        "status.plot(kind=\"pie\",figsize=(7,7),autopct=\"%1.2f%%\", colors=['green','orange'],\n",
        "         shadow=True,labels=None, title=\"Percentage of Customer Who Are Married/Singgle\")\n",
        "plt.xlabel('Marital Status')\n",
        "plt.ylabel('')\n",
        "plt.legend(labels=status.index, loc='best',bbox_to_anchor=(0.3,0,1,1))\n",
        "plt.show()"
      ],
      "metadata": {
        "colab": {
          "base_uri": "https://localhost:8080/",
          "height": 441
        },
        "id": "V9DYFSx2C-hG",
        "outputId": "f3b0df13-0c35-4576-f173-b28166f621b5"
      },
      "execution_count": null,
      "outputs": [
        {
          "output_type": "display_data",
          "data": {
            "text/plain": [
              "<Figure size 504x504 with 1 Axes>"
            ],
            "image/png": "[encoded data removed]"
          },
          "metadata": {}
        }
      ]
    },
    {
      "cell_type": "markdown",
      "source": [
        "* Number of customers who are single - 226,272\n",
        "* Number of customers who are married - 25,728\n",
        "\n",
        "* The percentage of customers who are single is 87.79% and customers who are married is 10.21%\n",
        "* Most customer who take loans are single"
      ],
      "metadata": {
        "id": "LNRabm2hIoKx"
      }
    },
    {
      "cell_type": "markdown",
      "source": [
        "## Distribution of Non-Defaulter and Defaulter Customer by Marital Status"
      ],
      "metadata": {
        "id": "hZp5-Eqyqvwy"
      }
    },
    {
      "cell_type": "code",
      "source": [
        "defaulter = df[df[\"Risk_Flag\"] == 1]\n",
        "non_defaulter = df[df[\"Risk_Flag\"] == 0]"
      ],
      "metadata": {
        "id": "TiBX3JYgEDSq"
      },
      "execution_count": null,
      "outputs": []
    },
    {
      "cell_type": "code",
      "source": [
        "print(\"Defaulter customers by marital status: \\n\", defaulter['Married/Single'].value_counts())\n",
        "print(\"\\n Non-defaulter customers by marital status: \\n\", non_defaulter['Married/Single'].value_counts())"
      ],
      "metadata": {
        "colab": {
          "base_uri": "https://localhost:8080/"
        },
        "id": "OLesq_nEE3B8",
        "outputId": "d28cedff-26ab-46a1-f202-117bde9efcce"
      },
      "execution_count": null,
      "outputs": [
        {
          "output_type": "stream",
          "name": "stdout",
          "text": [
            "Defaulter customers by marital status: \n",
            " single     28360\n",
            "married     2636\n",
            "Name: Married/Single, dtype: int64\n",
            "\n",
            " Non-defaulter customers by marital status: \n",
            " single     197912\n",
            "married     23092\n",
            "Name: Married/Single, dtype: int64\n"
          ]
        }
      ]
    },
    {
      "cell_type": "code",
      "source": [
        "ax = df.groupby(['Married/Single', 'Risk_Flag']).size().plot(kind='bar',figsize=(10, 6), color='green')\n",
        "ax.set_title(\"Defaulter and Non-Defaulter Distribution by Martial Status\")\n",
        "ax.set_xlabel(\"(Married/Single, Risk_Flag)\")\n",
        "ax.set_ylabel(\"Count of customer\")\n",
        "plt.ticklabel_format(style='plain', axis='y')\n",
        "for p in ax.patches:\n",
        "    ax.annotate(str(format(int(p.get_height()), ',d')), (p.get_x(), p.get_height()))"
      ],
      "metadata": {
        "colab": {
          "base_uri": "https://localhost:8080/",
          "height": 455
        },
        "id": "IEea85V7F2Ee",
        "outputId": "f722acd6-01d2-4d0b-f025-4c431a645d56"
      },
      "execution_count": null,
      "outputs": [
        {
          "output_type": "display_data",
          "data": {
            "text/plain": [
              "<Figure size 720x432 with 1 Axes>"
            ],
            "image/png": "[encoded data removed]"
          },
          "metadata": {
            "needs_background": "light"
          }
        }
      ]
    },
    {
      "cell_type": "markdown",
      "source": [
        "* Number of defaulter customers who are single - 28,360\n",
        "* Number of defaulters customers who are married - 2,636\n"
      ],
      "metadata": {
        "id": "D0h3s5_TLRPi"
      }
    },
    {
      "cell_type": "code",
      "source": [
        "defaulter['Married/Single'].value_counts().plot(kind=\"pie\",figsize=(7,7),autopct=\"%1.2f%%\", colors=['green','orange'],\n",
        "         shadow=True,labels=['Single', 'Married'], title=\"Percentage of Defaulters Customers by Marital Status\")\n",
        "plt.xlabel('Marital Status')\n",
        "plt.ylabel('')\n",
        "plt.legend(loc='best',bbox_to_anchor=(0.3,0,1,1))\n",
        "plt.show()"
      ],
      "metadata": {
        "colab": {
          "base_uri": "https://localhost:8080/",
          "height": 441
        },
        "id": "8Yh_p6oOG-_V",
        "outputId": "fb3a20ed-1f86-4c20-c249-dcc312779f8c"
      },
      "execution_count": null,
      "outputs": [
        {
          "output_type": "display_data",
          "data": {
            "text/plain": [
              "<Figure size 504x504 with 1 Axes>"
            ],
            "image/png": "[encoded data removed]"
          },
          "metadata": {}
        }
      ]
    },
    {
      "cell_type": "markdown",
      "source": [
        "* The percentage of defaulter customers who are single is 91.50% and defaulter customers who are married is 8.50%\n",
        "\n",
        "* Most defaulter customer are single"
      ],
      "metadata": {
        "id": "yGRJjVV6LTWu"
      }
    },
    {
      "cell_type": "markdown",
      "source": [
        "## Distribution of House Ownership"
      ],
      "metadata": {
        "id": "rH-5YVBKrtYW"
      }
    },
    {
      "cell_type": "code",
      "source": [
        "house_ownership = df['House_Ownership'].value_counts()\n",
        "house_ownership"
      ],
      "metadata": {
        "colab": {
          "base_uri": "https://localhost:8080/"
        },
        "id": "_qKFyizQNx_E",
        "outputId": "f2e41487-eed4-4639-8243-dea6bca7ed4f"
      },
      "execution_count": null,
      "outputs": [
        {
          "output_type": "execute_result",
          "data": {
            "text/plain": [
              "rented          231898\n",
              "owned            12918\n",
              "norent_noown      7184\n",
              "Name: House_Ownership, dtype: int64"
            ]
          },
          "metadata": {},
          "execution_count": 20
        }
      ]
    },
    {
      "cell_type": "code",
      "source": [
        "f, ax = plt.subplots(1, 1, figsize=(10, 6))\n",
        "house_ownership.plot(kind='bar', title=\"House Ownership Distribution\", ax=ax, figsize=(10,6), color=['teal','orange', 'salmon'])\n",
        "plt.ticklabel_format(style='plain', axis='y')\n",
        "plt.ylabel(\"Count of Customer\")\n",
        "plt.xlabel(\"House Ownership\")\n",
        "for p in ax.patches:\n",
        "    ax.annotate(str(format(int(p.get_height()), ',d')), (p.get_x(), p.get_height()))\n",
        "plt.show()"
      ],
      "metadata": {
        "colab": {
          "base_uri": "https://localhost:8080/",
          "height": 465
        },
        "id": "z2G1IGYOObCh",
        "outputId": "0a656386-ba11-4a30-a3a4-4d96c3e554bd"
      },
      "execution_count": null,
      "outputs": [
        {
          "output_type": "display_data",
          "data": {
            "text/plain": [
              "<Figure size 720x432 with 1 Axes>"
            ],
            "image/png": "[encoded data removed]"
          },
          "metadata": {
            "needs_background": "light"
          }
        }
      ]
    },
    {
      "cell_type": "markdown",
      "source": [
        "* Number of customers who rent a house - 231,898\n",
        "\n",
        "* Number of customers who own a house - 12,918\n",
        "\n",
        "* Number of customers who not rent or own a house - 7,184"
      ],
      "metadata": {
        "id": "FG1P9xDgQK-9"
      }
    },
    {
      "cell_type": "markdown",
      "source": [
        "## Distribution of Non-Defaulter and Defaulter Customer by House Ownership"
      ],
      "metadata": {
        "id": "Q5NsKV78sYH_"
      }
    },
    {
      "cell_type": "code",
      "source": [
        "print(\"Defaulter customers by House Ownership: \\n\", defaulter['House_Ownership'].value_counts())\n",
        "print(\"\\n Non-defaulter customers by House Ownership: \\n\", non_defaulter['House_Ownership'].value_counts())"
      ],
      "metadata": {
        "colab": {
          "base_uri": "https://localhost:8080/"
        },
        "id": "df73iTCnRIoo",
        "outputId": "3d453a32-2775-4a09-9f2a-b5e25873094f"
      },
      "execution_count": null,
      "outputs": [
        {
          "output_type": "stream",
          "name": "stdout",
          "text": [
            "Defaulter customers by House Ownership: \n",
            " rented          29121\n",
            "owned            1160\n",
            "norent_noown      715\n",
            "Name: House_Ownership, dtype: int64\n",
            "\n",
            " Non-defaulter customers by House Ownership: \n",
            " rented          202777\n",
            "owned            11758\n",
            "norent_noown      6469\n",
            "Name: House_Ownership, dtype: int64\n"
          ]
        }
      ]
    },
    {
      "cell_type": "code",
      "source": [
        "ax = df.groupby(['House_Ownership', 'Risk_Flag']).size().plot(kind='bar',figsize=(10, 6), color='teal')\n",
        "ax.set_title(\"Defaulter and Non-Defaulter Distribution by House_Ownership\")\n",
        "ax.set_xlabel(\"(House_Ownership, Risk_Flag)\")\n",
        "ax.set_ylabel(\"Count of customer\")\n",
        "plt.ticklabel_format(style='plain', axis='y')\n",
        "for p in ax.patches:\n",
        "    ax.annotate(str(format(int(p.get_height()), ',d')), (p.get_x(), p.get_height()))"
      ],
      "metadata": {
        "colab": {
          "base_uri": "https://localhost:8080/",
          "height": 486
        },
        "id": "tIxFENizRtpw",
        "outputId": "91841f82-850d-48b7-ab9b-edc9d53f868f"
      },
      "execution_count": null,
      "outputs": [
        {
          "output_type": "display_data",
          "data": {
            "text/plain": [
              "<Figure size 720x432 with 1 Axes>"
            ],
            "image/png": "[encoded data removed]"
          },
          "metadata": {
            "needs_background": "light"
          }
        }
      ]
    },
    {
      "cell_type": "markdown",
      "source": [
        "* Number of defaulter customers who rent a house - 29,121\n",
        "\n",
        "* Number of defaulter customers who own a house - 1,160\n",
        "\n",
        "* Number of defaulter customers who not rent or own a house - 715"
      ],
      "metadata": {
        "id": "HvewlufnSUis"
      }
    },
    {
      "cell_type": "code",
      "source": [
        "defaulter['House_Ownership'].value_counts().plot(kind=\"pie\",figsize=(7,7),autopct=\"%1.2f%%\", colors=['teal','orange', 'salmon'],\n",
        "         shadow=True,labels=defaulter['House_Ownership'].value_counts().index)\n",
        "plt.xlabel('House_Ownership')\n",
        "plt.ylabel('')\n",
        "plt.title(\"Percentage of Defaulters Customers by House_Ownership\")\n",
        "plt.legend(loc='best',bbox_to_anchor=(0.3,0,1,1))\n",
        "plt.show()"
      ],
      "metadata": {
        "colab": {
          "base_uri": "https://localhost:8080/",
          "height": 442
        },
        "id": "dpyiysawRnyt",
        "outputId": "6dc1d42a-9138-4fa8-9db5-360360126451"
      },
      "execution_count": null,
      "outputs": [
        {
          "output_type": "display_data",
          "data": {
            "text/plain": [
              "<Figure size 504x504 with 1 Axes>"
            ],
            "image/png": "[encoded data removed]"
          },
          "metadata": {}
        }
      ]
    },
    {
      "cell_type": "markdown",
      "source": [
        "* The percentage of defaulter customers who rent a house is 93.95% and defaulter customers who own a house is 3.74% and defaulter customers who not rent or own a house is 2.31%\n",
        "\n",
        "* Most defaulter customer are rented a house"
      ],
      "metadata": {
        "id": "dujBjKh-T4J5"
      }
    },
    {
      "cell_type": "markdown",
      "source": [
        "## Distribution of Car Ownership"
      ],
      "metadata": {
        "id": "gpenBXqast6a"
      }
    },
    {
      "cell_type": "code",
      "source": [
        "car_ownership = df['Car_Ownership'].value_counts()\n",
        "car_ownership"
      ],
      "metadata": {
        "colab": {
          "base_uri": "https://localhost:8080/"
        },
        "outputId": "43e91bb7-013a-4a47-d568-592fd0d223b7",
        "id": "Ud_8HfnvqwdM"
      },
      "execution_count": null,
      "outputs": [
        {
          "output_type": "execute_result",
          "data": {
            "text/plain": [
              "no     176000\n",
              "yes     76000\n",
              "Name: Car_Ownership, dtype: int64"
            ]
          },
          "metadata": {},
          "execution_count": 25
        }
      ]
    },
    {
      "cell_type": "code",
      "source": [
        "f, ax = plt.subplots(1, 1, figsize=(10, 6))\n",
        "car_ownership.plot(kind='bar', title=\"Car Ownership Distribution\", ax=ax, figsize=(10,6), color=['maroon', 'orange'])\n",
        "plt.ticklabel_format(style='plain', axis='y')\n",
        "plt.ylabel(\"Count of Customer\")\n",
        "plt.xlabel(\"Car Ownership\")\n",
        "for p in ax.patches:\n",
        "    ax.annotate(str(format(int(p.get_height()), ',d')), (p.get_x(), p.get_height()))\n",
        "plt.show()"
      ],
      "metadata": {
        "colab": {
          "base_uri": "https://localhost:8080/",
          "height": 411
        },
        "outputId": "d7531df9-9fdd-48e8-a2fb-93f0bf2f0de9",
        "id": "MWeUtTv2qwdN"
      },
      "execution_count": null,
      "outputs": [
        {
          "output_type": "display_data",
          "data": {
            "text/plain": [
              "<Figure size 720x432 with 1 Axes>"
            ],
            "image/png": "[encoded data removed]"
          },
          "metadata": {
            "needs_background": "light"
          }
        }
      ]
    },
    {
      "cell_type": "markdown",
      "source": [
        "* Number of customers who own a car - 76,000\n",
        "\n",
        "* Number of customers who dont own a car - 176,000"
      ],
      "metadata": {
        "id": "2uy4-5DzqwdO"
      }
    },
    {
      "cell_type": "markdown",
      "source": [
        "## Distribution of Non-Defaulter and Defaulter Customer by Car Ownership"
      ],
      "metadata": {
        "id": "D_E4WW_8st6b"
      }
    },
    {
      "cell_type": "code",
      "source": [
        "print(\"Defaulter customers by Car Ownership: \\n\", defaulter['Car_Ownership'].value_counts())\n",
        "print(\"\\n Non-defaulter customers by Car Ownership: \\n\", non_defaulter['Car_Ownership'].value_counts())"
      ],
      "metadata": {
        "colab": {
          "base_uri": "https://localhost:8080/"
        },
        "outputId": "619bccfd-15bf-4787-85a0-fa14151a89ac",
        "id": "mq5WRfOuq4Ka"
      },
      "execution_count": null,
      "outputs": [
        {
          "output_type": "stream",
          "name": "stdout",
          "text": [
            "Defaulter customers by Car Ownership: \n",
            " no     22561\n",
            "yes     8435\n",
            "Name: Car_Ownership, dtype: int64\n",
            "\n",
            " Non-defaulter customers by Car Ownership: \n",
            " no     153439\n",
            "yes     67565\n",
            "Name: Car_Ownership, dtype: int64\n"
          ]
        }
      ]
    },
    {
      "cell_type": "code",
      "source": [
        "ax = df.groupby(['Car_Ownership', 'Risk_Flag']).size().plot(kind='bar',figsize=(10, 6), color='maroon')\n",
        "ax.set_title(\"Defaulter and Non-Defaulter Distribution by Car Ownership\")\n",
        "ax.set_xlabel(\"(Car_Ownership, Risk_Flag)\")\n",
        "ax.set_ylabel(\"Count of customer\")\n",
        "plt.ticklabel_format(style='plain', axis='y')\n",
        "for p in ax.patches:\n",
        "    ax.annotate(str(format(int(p.get_height()), ',d')), (p.get_x(), p.get_height()))"
      ],
      "metadata": {
        "colab": {
          "base_uri": "https://localhost:8080/",
          "height": 433
        },
        "outputId": "4ca377b3-9089-4645-c4c7-8c73068359d0",
        "id": "5Bj4txiTq4Kb"
      },
      "execution_count": null,
      "outputs": [
        {
          "output_type": "display_data",
          "data": {
            "text/plain": [
              "<Figure size 720x432 with 1 Axes>"
            ],
            "image/png": "[encoded data removed]"
          },
          "metadata": {
            "needs_background": "light"
          }
        }
      ]
    },
    {
      "cell_type": "markdown",
      "source": [
        "* Number of defaulter customers who own a car - 8,435\n",
        "\n",
        "* Number of defaulter customers who dont own a car - 22,561"
      ],
      "metadata": {
        "id": "RUpmrqRYq4Kb"
      }
    },
    {
      "cell_type": "code",
      "source": [
        "defaulter['Car_Ownership'].value_counts().plot(kind=\"pie\",figsize=(7,7),autopct=\"%1.2f%%\", colors=['maroon','orange'],\n",
        "         shadow=True,labels=defaulter['Car_Ownership'].value_counts().index)\n",
        "plt.xlabel('Car_Ownership')\n",
        "plt.ylabel('')\n",
        "plt.title(\"Percentage of Defaulters Customers by Car_Ownership\")\n",
        "plt.legend(loc='best',bbox_to_anchor=(0.3,0,1,1))\n",
        "plt.show()"
      ],
      "metadata": {
        "colab": {
          "base_uri": "https://localhost:8080/",
          "height": 442
        },
        "outputId": "7e265199-8f7b-4b9c-968d-44618c683694",
        "id": "jKVTKM7nq4Kb"
      },
      "execution_count": null,
      "outputs": [
        {
          "output_type": "display_data",
          "data": {
            "text/plain": [
              "<Figure size 504x504 with 1 Axes>"
            ],
            "image/png": "[encoded data removed]"
          },
          "metadata": {}
        }
      ]
    },
    {
      "cell_type": "markdown",
      "source": [
        "* The percentage of defaulter customers  who own a car is 27.21% and defaulter customers who dont own a car is 72.79%\n",
        "\n",
        "* Most defaulter customers are dont own a car"
      ],
      "metadata": {
        "id": "3sfHZ5g1q4Kc"
      }
    },
    {
      "cell_type": "markdown",
      "source": [
        "## Distribution of Professions Who Take Loan"
      ],
      "metadata": {
        "id": "qcHyoaZAtm14"
      }
    },
    {
      "cell_type": "code",
      "source": [
        "top_profession_loan = df['Profession'].value_counts().head(10)\n",
        "top_profession_loan"
      ],
      "metadata": {
        "colab": {
          "base_uri": "https://localhost:8080/"
        },
        "id": "V2vf4ZMmSwpx",
        "outputId": "79e51ef8-101b-4326-836b-bfdf66b97f51"
      },
      "execution_count": null,
      "outputs": [
        {
          "output_type": "execute_result",
          "data": {
            "text/plain": [
              "Physician                     5957\n",
              "Statistician                  5806\n",
              "Web_designer                  5397\n",
              "Psychologist                  5390\n",
              "Computer_hardware_engineer    5372\n",
              "Drafter                       5359\n",
              "Magistrate                    5357\n",
              "Fashion_Designer              5304\n",
              "Air_traffic_controller        5281\n",
              "Comedian                      5259\n",
              "Name: Profession, dtype: int64"
            ]
          },
          "metadata": {},
          "execution_count": 30
        }
      ]
    },
    {
      "cell_type": "code",
      "source": [
        "top_profession_loan.plot(kind='bar',x='Profession',figsize=(10,10), color='violet')\n",
        "plt.legend(loc='best')\n",
        "plt.title('Top 10 Professions Who Took Loan')\n",
        "plt.xlabel('Loan Count')\n",
        "plt.ylabel('Profession')\n",
        "for index,value in enumerate(top_profession_loan):\n",
        "    plt.text(index-0.2,value+50,str(value))\n",
        "plt.show() "
      ],
      "metadata": {
        "id": "cpOIPJWcOYvn",
        "colab": {
          "base_uri": "https://localhost:8080/",
          "height": 762
        },
        "outputId": "b59b3095-6771-473b-c8a7-9af2ae2397ad"
      },
      "execution_count": null,
      "outputs": [
        {
          "output_type": "display_data",
          "data": {
            "text/plain": [
              "<Figure size 720x720 with 1 Axes>"
            ],
            "image/png": "[encoded data removed]"
          },
          "metadata": {
            "needs_background": "light"
          }
        }
      ]
    },
    {
      "cell_type": "markdown",
      "source": [
        "* Top 10 professions who took loan the most are Physician, Statistician, Web_designer, Psychologist, Computer_hardware_engineer , Drafter, Magistrate, Fashion_Designer, Air_traffic_controller, Comedian\n",
        "\n",
        "* Most of customers who took loan have profession as Physician, totaling 5957 customers"
      ],
      "metadata": {
        "id": "eoQrKuP5Ww0m"
      }
    },
    {
      "cell_type": "markdown",
      "source": [
        "## Distribution of Professions by Income"
      ],
      "metadata": {
        "id": "ALZqBtEYodZB"
      }
    },
    {
      "cell_type": "code",
      "source": [
        "top_profession_by_income = df.groupby(['Profession']).mean()[['Income']].sort_values('Income', ascending=False)[:15]\n",
        "top_profession_by_income"
      ],
      "metadata": {
        "colab": {
          "base_uri": "https://localhost:8080/",
          "height": 551
        },
        "id": "hyHsbVI2okUv",
        "outputId": "aa36c524-51a5-4b2f-90db-bc4cb0ae95e2"
      },
      "execution_count": null,
      "outputs": [
        {
          "output_type": "execute_result",
          "data": {
            "text/plain": [
              "                           Income\n",
              "Profession                       \n",
              "Petroleum_Engineer   5.443310e+06\n",
              "Psychologist         5.357795e+06\n",
              "Designer             5.336802e+06\n",
              "Scientist            5.282710e+06\n",
              "Surgeon              5.235359e+06\n",
              "Comedian             5.199539e+06\n",
              "Chemical_engineer    5.189805e+06\n",
              "Mechanical_engineer  5.175032e+06\n",
              "Artist               5.164765e+06\n",
              "Financial_Analyst    5.145753e+06\n",
              "Consultant           5.138436e+06\n",
              "Lawyer               5.128131e+06\n",
              "Computer_operator    5.112550e+06\n",
              "Surveyor             5.112352e+06\n",
              "Secretary            5.102880e+06"
            ],
            "text/html": [
              "\n",
              "  <div id=\"df-6c14d426-28ae-4a9b-b669-fe8b111a59ef\">\n",
              "    <div class=\"colab-df-container\">\n",
              "      <div>\n",
              "<style scoped>\n",
              "    .dataframe tbody tr th:only-of-type {\n",
              "        vertical-align: middle;\n",
              "    }\n",
              "\n",
              "    .dataframe tbody tr th {\n",
              "        vertical-align: top;\n",
              "    }\n",
              "\n",
              "    .dataframe thead th {\n",
              "        text-align: right;\n",
              "    }\n",
              "</style>\n",
              "<table border=\"1\" class=\"dataframe\">\n",
              "  <thead>\n",
              "    <tr style=\"text-align: right;\">\n",
              "      <th></th>\n",
              "      <th>Income</th>\n",
              "    </tr>\n",
              "    <tr>\n",
              "      <th>Profession</th>\n",
              "      <th></th>\n",
              "    </tr>\n",
              "  </thead>\n",
              "  <tbody>\n",
              "    <tr>\n",
              "      <th>Petroleum_Engineer</th>\n",
              "      <td>5.443310e+06</td>\n",
              "    </tr>\n",
              "    <tr>\n",
              "      <th>Psychologist</th>\n",
              "      <td>5.357795e+06</td>\n",
              "    </tr>\n",
              "    <tr>\n",
              "      <th>Designer</th>\n",
              "      <td>5.336802e+06</td>\n",
              "    </tr>\n",
              "    <tr>\n",
              "      <th>Scientist</th>\n",
              "      <td>5.282710e+06</td>\n",
              "    </tr>\n",
              "    <tr>\n",
              "      <th>Surgeon</th>\n",
              "      <td>5.235359e+06</td>\n",
              "    </tr>\n",
              "    <tr>\n",
              "      <th>Comedian</th>\n",
              "      <td>5.199539e+06</td>\n",
              "    </tr>\n",
              "    <tr>\n",
              "      <th>Chemical_engineer</th>\n",
              "      <td>5.189805e+06</td>\n",
              "    </tr>\n",
              "    <tr>\n",
              "      <th>Mechanical_engineer</th>\n",
              "      <td>5.175032e+06</td>\n",
              "    </tr>\n",
              "    <tr>\n",
              "      <th>Artist</th>\n",
              "      <td>5.164765e+06</td>\n",
              "    </tr>\n",
              "    <tr>\n",
              "      <th>Financial_Analyst</th>\n",
              "      <td>5.145753e+06</td>\n",
              "    </tr>\n",
              "    <tr>\n",
              "      <th>Consultant</th>\n",
              "      <td>5.138436e+06</td>\n",
              "    </tr>\n",
              "    <tr>\n",
              "      <th>Lawyer</th>\n",
              "      <td>5.128131e+06</td>\n",
              "    </tr>\n",
              "    <tr>\n",
              "      <th>Computer_operator</th>\n",
              "      <td>5.112550e+06</td>\n",
              "    </tr>\n",
              "    <tr>\n",
              "      <th>Surveyor</th>\n",
              "      <td>5.112352e+06</td>\n",
              "    </tr>\n",
              "    <tr>\n",
              "      <th>Secretary</th>\n",
              "      <td>5.102880e+06</td>\n",
              "    </tr>\n",
              "  </tbody>\n",
              "</table>\n",
              "</div>\n",
              "      <button class=\"colab-df-convert\" onclick=\"convertToInteractive('df-6c14d426-28ae-4a9b-b669-fe8b111a59ef')\"\n",
              "              title=\"Convert this dataframe to an interactive table.\"\n",
              "              style=\"display:none;\">\n",
              "        \n",
              "  <svg xmlns=\"http://www.w3.org/2000/svg\" height=\"24px\"viewBox=\"0 0 24 24\"\n",
              "       width=\"24px\">\n",
              "    <path d=\"M0 0h24v24H0V0z\" fill=\"none\"/>\n",
              "    <path d=\"M18.56 5.44l.94 2.06.94-2.06 2.06-.94-2.06-.94-.94-2.06-.94 2.06-2.06.94zm-11 1L8.5 8.5l.94-2.06 2.06-.94-2.06-.94L8.5 2.5l-.94 2.06-2.06.94zm10 10l.94 2.06.94-2.06 2.06-.94-2.06-.94-.94-2.06-.94 2.06-2.06.94z\"/><path d=\"M17.41 7.96l-1.37-1.37c-.4-.4-.92-.59-1.43-.59-.52 0-1.04.2-1.43.59L10.3 9.45l-7.72 7.72c-.78.78-.78 2.05 0 2.83L4 21.41c.39.39.9.59 1.41.59.51 0 1.02-.2 1.41-.59l7.78-7.78 2.81-2.81c.8-.78.8-2.07 0-2.86zM5.41 20L4 18.59l7.72-7.72 1.47 1.35L5.41 20z\"/>\n",
              "  </svg>\n",
              "      </button>\n",
              "      \n",
              "  <style>\n",
              "    .colab-df-container {\n",
              "      display:flex;\n",
              "      flex-wrap:wrap;\n",
              "      gap: 12px;\n",
              "    }\n",
              "\n",
              "    .colab-df-convert {\n",
              "      background-color: #E8F0FE;\n",
              "      border: none;\n",
              "      border-radius: 50%;\n",
              "      cursor: pointer;\n",
              "      display: none;\n",
              "      fill: #1967D2;\n",
              "      height: 32px;\n",
              "      padding: 0 0 0 0;\n",
              "      width: 32px;\n",
              "    }\n",
              "\n",
              "    .colab-df-convert:hover {\n",
              "      background-color: #E2EBFA;\n",
              "      box-shadow: 0px 1px 2px rgba(60, 64, 67, 0.3), 0px 1px 3px 1px rgba(60, 64, 67, 0.15);\n",
              "      fill: #174EA6;\n",
              "    }\n",
              "\n",
              "    [theme=dark] .colab-df-convert {\n",
              "      background-color: #3B4455;\n",
              "      fill: #D2E3FC;\n",
              "    }\n",
              "\n",
              "    [theme=dark] .colab-df-convert:hover {\n",
              "      background-color: #434B5C;\n",
              "      box-shadow: 0px 1px 3px 1px rgba(0, 0, 0, 0.15);\n",
              "      filter: drop-shadow(0px 1px 2px rgba(0, 0, 0, 0.3));\n",
              "      fill: #FFFFFF;\n",
              "    }\n",
              "  </style>\n",
              "\n",
              "      <script>\n",
              "        const buttonEl =\n",
              "          document.querySelector('#df-6c14d426-28ae-4a9b-b669-fe8b111a59ef button.colab-df-convert');\n",
              "        buttonEl.style.display =\n",
              "          google.colab.kernel.accessAllowed ? 'block' : 'none';\n",
              "\n",
              "        async function convertToInteractive(key) {\n",
              "          const element = document.querySelector('#df-6c14d426-28ae-4a9b-b669-fe8b111a59ef');\n",
              "          const dataTable =\n",
              "            await google.colab.kernel.invokeFunction('convertToInteractive',\n",
              "                                                     [key], {});\n",
              "          if (!dataTable) return;\n",
              "\n",
              "          const docLinkHtml = 'Like what you see? Visit the ' +\n",
              "            '<a target=\"_blank\" href=https://colab.research.google.com/notebooks/data_table.ipynb>data table notebook</a>'\n",
              "            + ' to learn more about interactive tables.';\n",
              "          element.innerHTML = '';\n",
              "          dataTable['output_type'] = 'display_data';\n",
              "          await google.colab.output.renderOutput(dataTable, element);\n",
              "          const docLink = document.createElement('div');\n",
              "          docLink.innerHTML = docLinkHtml;\n",
              "          element.appendChild(docLink);\n",
              "        }\n",
              "      </script>\n",
              "    </div>\n",
              "  </div>\n",
              "  "
            ]
          },
          "metadata": {},
          "execution_count": 32
        }
      ]
    },
    {
      "cell_type": "code",
      "source": [
        "top_profession_by_income.plot(kind='barh',figsize=(10,10), color='violet')\n",
        "plt.title('Top 10 Profession with Higher Average Income')\n",
        "plt.xlabel('Income')\n",
        "plt.ylabel('Profession')\n",
        "\n",
        "for index,value in enumerate(top_profession_by_income['Income']):\n",
        "    plt.text(value-900000,index-0.1,str(int(value)))\n",
        "plt.legend(loc='best')\n",
        "plt.show()"
      ],
      "metadata": {
        "colab": {
          "base_uri": "https://localhost:8080/",
          "height": 621
        },
        "id": "7A6hk8YysLbE",
        "outputId": "371c95b5-3a89-415d-a49e-725b49a600ef"
      },
      "execution_count": null,
      "outputs": [
        {
          "output_type": "display_data",
          "data": {
            "text/plain": [
              "<Figure size 720x720 with 1 Axes>"
            ],
            "image/png": "[encoded data removed]"
          },
          "metadata": {
            "needs_background": "light"
          }
        }
      ]
    },
    {
      "cell_type": "markdown",
      "source": [
        "* Top 10 professions with higher average income are 'Petroleum_Engineer', 'Psychologist', 'Designer', 'Scientist', 'Surgeon', 'Comedian', 'Chemical_engineer', 'Mechanical_engineer', 'Artist', 'Financial_Analyst', 'Consultant', 'Lawyer', 'Computer_operator' 'Surveyor', 'Secretary'"
      ],
      "metadata": {
        "id": "6_G87tb7vXS6"
      }
    },
    {
      "cell_type": "markdown",
      "source": [
        "## Distribution of Non-Defaulter and Defaulter Customer by Profession and Income"
      ],
      "metadata": {
        "id": "GzwV3IROuZIq"
      }
    },
    {
      "cell_type": "code",
      "source": [
        "print(\"Defaulter customers by Profession: \\n\", defaulter['Profession'].value_counts())\n",
        "print(\"\\n Non-defaulter customers by Profession: \\n\", non_defaulter['Profession'].value_counts())"
      ],
      "metadata": {
        "colab": {
          "base_uri": "https://localhost:8080/"
        },
        "id": "L4RJ7_3Mxn-D",
        "outputId": "283b7bd9-01ee-49ba-b48c-5be52bc34883"
      },
      "execution_count": null,
      "outputs": [
        {
          "output_type": "stream",
          "name": "stdout",
          "text": [
            "Defaulter customers by Profession: \n",
            " Police_officer                826\n",
            "Software_Developer            750\n",
            "Air_traffic_controller        715\n",
            "Surveyor                      714\n",
            "Physician                     710\n",
            "Army_officer                  709\n",
            "Hotel_Manager                 701\n",
            "Technical_writer              697\n",
            "Chartered_Accountant          690\n",
            "Scientist                     690\n",
            "Computer_hardware_engineer    690\n",
            "Geologist                     674\n",
            "Statistician                  671\n",
            "Secretary                     660\n",
            "Psychologist                  657\n",
            "Biomedical_Engineer           654\n",
            "Magistrate                    643\n",
            "Aviator                       642\n",
            "Flight_attendant              634\n",
            "Comedian                      629\n",
            "Civil_engineer                627\n",
            "Lawyer                        624\n",
            "Technician                    624\n",
            "Computer_operator             619\n",
            "Fashion_Designer              612\n",
            "Firefighter                   612\n",
            "Architect                     611\n",
            "Microbiologist                607\n",
            "Drafter                       605\n",
            "Consultant                    602\n",
            "Graphic_Designer              596\n",
            "Artist                        596\n",
            "Web_designer                  589\n",
            "Mechanical_engineer           582\n",
            "Chemical_engineer             581\n",
            "Analyst                       567\n",
            "Chef                          563\n",
            "Official                      555\n",
            "Politician                    555\n",
            "Surgeon                       551\n",
            "Financial_Analyst             533\n",
            "Dentist                       524\n",
            "Librarian                     521\n",
            "Industrial_Engineer           518\n",
            "Civil_servant                 511\n",
            "Design_Engineer               506\n",
            "Designer                      502\n",
            "Engineer                      478\n",
            "Economist                     454\n",
            "Petroleum_Engineer            429\n",
            "Technology_specialist         386\n",
            "Name: Profession, dtype: int64\n",
            "\n",
            " Non-defaulter customers by Profession: \n",
            " Physician                     5247\n",
            "Statistician                  5135\n",
            "Web_designer                  4808\n",
            "Drafter                       4754\n",
            "Psychologist                  4733\n",
            "Industrial_Engineer           4732\n",
            "Magistrate                    4714\n",
            "Fashion_Designer              4692\n",
            "Computer_hardware_engineer    4682\n",
            "Mechanical_engineer           4635\n",
            "Financial_Analyst             4634\n",
            "Comedian                      4630\n",
            "Chemical_engineer             4624\n",
            "Petroleum_Engineer            4612\n",
            "Graphic_Designer              4570\n",
            "Air_traffic_controller        4566\n",
            "Technical_writer              4498\n",
            "Flight_attendant              4494\n",
            "Hotel_Manager                 4477\n",
            "Biomedical_Engineer           4473\n",
            "Secretary                     4401\n",
            "Politician                    4389\n",
            "Computer_operator             4371\n",
            "Technology_specialist         4351\n",
            "Software_Developer            4303\n",
            "Microbiologist                4274\n",
            "Artist                        4265\n",
            "Dentist                       4258\n",
            "Technician                    4240\n",
            "Design_Engineer               4223\n",
            "Surgeon                       4221\n",
            "Police_officer                4209\n",
            "Consultant                    4206\n",
            "Lawyer                        4194\n",
            "Economist                     4119\n",
            "Aviator                       4116\n",
            "Librarian                     4107\n",
            "Analyst                       4101\n",
            "Designer                      4096\n",
            "Scientist                     4091\n",
            "Chef                          4072\n",
            "Architect                     4046\n",
            "Surveyor                      4000\n",
            "Geologist                     3998\n",
            "Civil_engineer                3989\n",
            "Army_officer                  3952\n",
            "Civil_servant                 3902\n",
            "Firefighter                   3895\n",
            "Chartered_Accountant          3803\n",
            "Engineer                      3570\n",
            "Official                      3532\n",
            "Name: Profession, dtype: int64\n"
          ]
        }
      ]
    },
    {
      "cell_type": "code",
      "source": [
        "ax = defaulter.groupby(['Profession']).size().sort_values(ascending=False).head(3).plot(kind='bar',figsize=(10, 6), color='coral')\n",
        "ax.set_title(\"Defaulter Customers Distribution by Profession\")\n",
        "ax.set_xlabel(\"(Profession, Risk_Flag)\")\n",
        "ax.set_ylabel(\"Count of customer\")\n",
        "plt.ticklabel_format(style='plain', axis='y')\n",
        "for p in ax.patches:\n",
        "    ax.annotate(str(format(int(p.get_height()), ',d')), (p.get_x(), p.get_height()))"
      ],
      "metadata": {
        "colab": {
          "base_uri": "https://localhost:8080/",
          "height": 496
        },
        "id": "7DgZa-9wyWzc",
        "outputId": "40918072-9e44-4e9b-a15b-320d15995da9"
      },
      "execution_count": null,
      "outputs": [
        {
          "output_type": "display_data",
          "data": {
            "text/plain": [
              "<Figure size 720x432 with 1 Axes>"
            ],
            "image/png": "[encoded data removed]"
          },
          "metadata": {
            "needs_background": "light"
          }
        }
      ]
    },
    {
      "cell_type": "markdown",
      "source": [
        "* Top 3 profession that have most defaulter customers are police officer, software developer and trafic controller\n",
        "\n",
        "* Number of defaulter customers who are police officer - 826\n",
        "\n",
        "* Number of defaulter customers who are software developer - 750\n",
        "\n",
        "* Number of defaulter customers who are air trafic controller - 715\n",
        "\n",
        "* Most defaulter customers are police officer"
      ],
      "metadata": {
        "id": "eLedtNj8zp4P"
      }
    },
    {
      "cell_type": "code",
      "source": [
        "non_deafulter_by_profession_income = non_defaulter.groupby(['Profession']).mean()[['Income']].sort_values(by='Income',ascending=False)\n",
        "non_deafulter_by_profession_income"
      ],
      "metadata": {
        "colab": {
          "base_uri": "https://localhost:8080/",
          "height": 1000
        },
        "id": "UPNq1uwSxHxu",
        "outputId": "9cf26899-ac0e-4653-b709-d5b8eceb2cf0"
      },
      "execution_count": null,
      "outputs": [
        {
          "output_type": "execute_result",
          "data": {
            "text/plain": [
              "                                  Income\n",
              "Profession                              \n",
              "Petroleum_Engineer          5.464167e+06\n",
              "Psychologist                5.371496e+06\n",
              "Designer                    5.335546e+06\n",
              "Consultant                  5.309301e+06\n",
              "Surgeon                     5.258215e+06\n",
              "Mechanical_engineer         5.236917e+06\n",
              "Financial_Analyst           5.235485e+06\n",
              "Comedian                    5.216651e+06\n",
              "Artist                      5.212292e+06\n",
              "Computer_operator           5.163038e+06\n",
              "Scientist                   5.133864e+06\n",
              "Lawyer                      5.115013e+06\n",
              "Aviator                     5.091696e+06\n",
              "Industrial_Engineer         5.088461e+06\n",
              "Fashion_Designer            5.087047e+06\n",
              "Statistician                5.082532e+06\n",
              "Microbiologist              5.070562e+06\n",
              "Hotel_Manager               5.068050e+06\n",
              "Firefighter                 5.065976e+06\n",
              "Chemical_engineer           5.064952e+06\n",
              "Surveyor                    5.039817e+06\n",
              "Librarian                   5.032097e+06\n",
              "Software_Developer          5.017184e+06\n",
              "Air_traffic_controller      5.006006e+06\n",
              "Technology_specialist       4.994423e+06\n",
              "Civil_servant               4.991841e+06\n",
              "Secretary                   4.991108e+06\n",
              "Graphic_Designer            4.970722e+06\n",
              "Politician                  4.968339e+06\n",
              "Dentist                     4.961841e+06\n",
              "Architect                   4.954688e+06\n",
              "Economist                   4.932878e+06\n",
              "Chartered_Accountant        4.929826e+06\n",
              "Geologist                   4.919913e+06\n",
              "Army_officer                4.906295e+06\n",
              "Biomedical_Engineer         4.906071e+06\n",
              "Technician                  4.900951e+06\n",
              "Analyst                     4.890349e+06\n",
              "Computer_hardware_engineer  4.887058e+06\n",
              "Design_Engineer             4.866852e+06\n",
              "Technical_writer            4.858813e+06\n",
              "Engineer                    4.840576e+06\n",
              "Web_designer                4.833278e+06\n",
              "Magistrate                  4.797702e+06\n",
              "Physician                   4.796591e+06\n",
              "Chef                        4.775161e+06\n",
              "Drafter                     4.763550e+06\n",
              "Official                    4.757622e+06\n",
              "Civil_engineer              4.637187e+06\n",
              "Flight_attendant            4.582043e+06\n",
              "Police_officer              4.521655e+06"
            ],
            "text/html": [
              "\n",
              "  <div id=\"df-613f5367-403b-4cde-8046-a729b2518c77\">\n",
              "    <div class=\"colab-df-container\">\n",
              "      <div>\n",
              "<style scoped>\n",
              "    .dataframe tbody tr th:only-of-type {\n",
              "        vertical-align: middle;\n",
              "    }\n",
              "\n",
              "    .dataframe tbody tr th {\n",
              "        vertical-align: top;\n",
              "    }\n",
              "\n",
              "    .dataframe thead th {\n",
              "        text-align: right;\n",
              "    }\n",
              "</style>\n",
              "<table border=\"1\" class=\"dataframe\">\n",
              "  <thead>\n",
              "    <tr style=\"text-align: right;\">\n",
              "      <th></th>\n",
              "      <th>Income</th>\n",
              "    </tr>\n",
              "    <tr>\n",
              "      <th>Profession</th>\n",
              "      <th></th>\n",
              "    </tr>\n",
              "  </thead>\n",
              "  <tbody>\n",
              "    <tr>\n",
              "      <th>Petroleum_Engineer</th>\n",
              "      <td>5.464167e+06</td>\n",
              "    </tr>\n",
              "    <tr>\n",
              "      <th>Psychologist</th>\n",
              "      <td>5.371496e+06</td>\n",
              "    </tr>\n",
              "    <tr>\n",
              "      <th>Designer</th>\n",
              "      <td>5.335546e+06</td>\n",
              "    </tr>\n",
              "    <tr>\n",
              "      <th>Consultant</th>\n",
              "      <td>5.309301e+06</td>\n",
              "    </tr>\n",
              "    <tr>\n",
              "      <th>Surgeon</th>\n",
              "      <td>5.258215e+06</td>\n",
              "    </tr>\n",
              "    <tr>\n",
              "      <th>Mechanical_engineer</th>\n",
              "      <td>5.236917e+06</td>\n",
              "    </tr>\n",
              "    <tr>\n",
              "      <th>Financial_Analyst</th>\n",
              "      <td>5.235485e+06</td>\n",
              "    </tr>\n",
              "    <tr>\n",
              "      <th>Comedian</th>\n",
              "      <td>5.216651e+06</td>\n",
              "    </tr>\n",
              "    <tr>\n",
              "      <th>Artist</th>\n",
              "      <td>5.212292e+06</td>\n",
              "    </tr>\n",
              "    <tr>\n",
              "      <th>Computer_operator</th>\n",
              "      <td>5.163038e+06</td>\n",
              "    </tr>\n",
              "    <tr>\n",
              "      <th>Scientist</th>\n",
              "      <td>5.133864e+06</td>\n",
              "    </tr>\n",
              "    <tr>\n",
              "      <th>Lawyer</th>\n",
              "      <td>5.115013e+06</td>\n",
              "    </tr>\n",
              "    <tr>\n",
              "      <th>Aviator</th>\n",
              "      <td>5.091696e+06</td>\n",
              "    </tr>\n",
              "    <tr>\n",
              "      <th>Industrial_Engineer</th>\n",
              "      <td>5.088461e+06</td>\n",
              "    </tr>\n",
              "    <tr>\n",
              "      <th>Fashion_Designer</th>\n",
              "      <td>5.087047e+06</td>\n",
              "    </tr>\n",
              "    <tr>\n",
              "      <th>Statistician</th>\n",
              "      <td>5.082532e+06</td>\n",
              "    </tr>\n",
              "    <tr>\n",
              "      <th>Microbiologist</th>\n",
              "      <td>5.070562e+06</td>\n",
              "    </tr>\n",
              "    <tr>\n",
              "      <th>Hotel_Manager</th>\n",
              "      <td>5.068050e+06</td>\n",
              "    </tr>\n",
              "    <tr>\n",
              "      <th>Firefighter</th>\n",
              "      <td>5.065976e+06</td>\n",
              "    </tr>\n",
              "    <tr>\n",
              "      <th>Chemical_engineer</th>\n",
              "      <td>5.064952e+06</td>\n",
              "    </tr>\n",
              "    <tr>\n",
              "      <th>Surveyor</th>\n",
              "      <td>5.039817e+06</td>\n",
              "    </tr>\n",
              "    <tr>\n",
              "      <th>Librarian</th>\n",
              "      <td>5.032097e+06</td>\n",
              "    </tr>\n",
              "    <tr>\n",
              "      <th>Software_Developer</th>\n",
              "      <td>5.017184e+06</td>\n",
              "    </tr>\n",
              "    <tr>\n",
              "      <th>Air_traffic_controller</th>\n",
              "      <td>5.006006e+06</td>\n",
              "    </tr>\n",
              "    <tr>\n",
              "      <th>Technology_specialist</th>\n",
              "      <td>4.994423e+06</td>\n",
              "    </tr>\n",
              "    <tr>\n",
              "      <th>Civil_servant</th>\n",
              "      <td>4.991841e+06</td>\n",
              "    </tr>\n",
              "    <tr>\n",
              "      <th>Secretary</th>\n",
              "      <td>4.991108e+06</td>\n",
              "    </tr>\n",
              "    <tr>\n",
              "      <th>Graphic_Designer</th>\n",
              "      <td>4.970722e+06</td>\n",
              "    </tr>\n",
              "    <tr>\n",
              "      <th>Politician</th>\n",
              "      <td>4.968339e+06</td>\n",
              "    </tr>\n",
              "    <tr>\n",
              "      <th>Dentist</th>\n",
              "      <td>4.961841e+06</td>\n",
              "    </tr>\n",
              "    <tr>\n",
              "      <th>Architect</th>\n",
              "      <td>4.954688e+06</td>\n",
              "    </tr>\n",
              "    <tr>\n",
              "      <th>Economist</th>\n",
              "      <td>4.932878e+06</td>\n",
              "    </tr>\n",
              "    <tr>\n",
              "      <th>Chartered_Accountant</th>\n",
              "      <td>4.929826e+06</td>\n",
              "    </tr>\n",
              "    <tr>\n",
              "      <th>Geologist</th>\n",
              "      <td>4.919913e+06</td>\n",
              "    </tr>\n",
              "    <tr>\n",
              "      <th>Army_officer</th>\n",
              "      <td>4.906295e+06</td>\n",
              "    </tr>\n",
              "    <tr>\n",
              "      <th>Biomedical_Engineer</th>\n",
              "      <td>4.906071e+06</td>\n",
              "    </tr>\n",
              "    <tr>\n",
              "      <th>Technician</th>\n",
              "      <td>4.900951e+06</td>\n",
              "    </tr>\n",
              "    <tr>\n",
              "      <th>Analyst</th>\n",
              "      <td>4.890349e+06</td>\n",
              "    </tr>\n",
              "    <tr>\n",
              "      <th>Computer_hardware_engineer</th>\n",
              "      <td>4.887058e+06</td>\n",
              "    </tr>\n",
              "    <tr>\n",
              "      <th>Design_Engineer</th>\n",
              "      <td>4.866852e+06</td>\n",
              "    </tr>\n",
              "    <tr>\n",
              "      <th>Technical_writer</th>\n",
              "      <td>4.858813e+06</td>\n",
              "    </tr>\n",
              "    <tr>\n",
              "      <th>Engineer</th>\n",
              "      <td>4.840576e+06</td>\n",
              "    </tr>\n",
              "    <tr>\n",
              "      <th>Web_designer</th>\n",
              "      <td>4.833278e+06</td>\n",
              "    </tr>\n",
              "    <tr>\n",
              "      <th>Magistrate</th>\n",
              "      <td>4.797702e+06</td>\n",
              "    </tr>\n",
              "    <tr>\n",
              "      <th>Physician</th>\n",
              "      <td>4.796591e+06</td>\n",
              "    </tr>\n",
              "    <tr>\n",
              "      <th>Chef</th>\n",
              "      <td>4.775161e+06</td>\n",
              "    </tr>\n",
              "    <tr>\n",
              "      <th>Drafter</th>\n",
              "      <td>4.763550e+06</td>\n",
              "    </tr>\n",
              "    <tr>\n",
              "      <th>Official</th>\n",
              "      <td>4.757622e+06</td>\n",
              "    </tr>\n",
              "    <tr>\n",
              "      <th>Civil_engineer</th>\n",
              "      <td>4.637187e+06</td>\n",
              "    </tr>\n",
              "    <tr>\n",
              "      <th>Flight_attendant</th>\n",
              "      <td>4.582043e+06</td>\n",
              "    </tr>\n",
              "    <tr>\n",
              "      <th>Police_officer</th>\n",
              "      <td>4.521655e+06</td>\n",
              "    </tr>\n",
              "  </tbody>\n",
              "</table>\n",
              "</div>\n",
              "      <button class=\"colab-df-convert\" onclick=\"convertToInteractive('df-613f5367-403b-4cde-8046-a729b2518c77')\"\n",
              "              title=\"Convert this dataframe to an interactive table.\"\n",
              "              style=\"display:none;\">\n",
              "        \n",
              "  <svg xmlns=\"http://www.w3.org/2000/svg\" height=\"24px\"viewBox=\"0 0 24 24\"\n",
              "       width=\"24px\">\n",
              "    <path d=\"M0 0h24v24H0V0z\" fill=\"none\"/>\n",
              "    <path d=\"M18.56 5.44l.94 2.06.94-2.06 2.06-.94-2.06-.94-.94-2.06-.94 2.06-2.06.94zm-11 1L8.5 8.5l.94-2.06 2.06-.94-2.06-.94L8.5 2.5l-.94 2.06-2.06.94zm10 10l.94 2.06.94-2.06 2.06-.94-2.06-.94-.94-2.06-.94 2.06-2.06.94z\"/><path d=\"M17.41 7.96l-1.37-1.37c-.4-.4-.92-.59-1.43-.59-.52 0-1.04.2-1.43.59L10.3 9.45l-7.72 7.72c-.78.78-.78 2.05 0 2.83L4 21.41c.39.39.9.59 1.41.59.51 0 1.02-.2 1.41-.59l7.78-7.78 2.81-2.81c.8-.78.8-2.07 0-2.86zM5.41 20L4 18.59l7.72-7.72 1.47 1.35L5.41 20z\"/>\n",
              "  </svg>\n",
              "      </button>\n",
              "      \n",
              "  <style>\n",
              "    .colab-df-container {\n",
              "      display:flex;\n",
              "      flex-wrap:wrap;\n",
              "      gap: 12px;\n",
              "    }\n",
              "\n",
              "    .colab-df-convert {\n",
              "      background-color: #E8F0FE;\n",
              "      border: none;\n",
              "      border-radius: 50%;\n",
              "      cursor: pointer;\n",
              "      display: none;\n",
              "      fill: #1967D2;\n",
              "      height: 32px;\n",
              "      padding: 0 0 0 0;\n",
              "      width: 32px;\n",
              "    }\n",
              "\n",
              "    .colab-df-convert:hover {\n",
              "      background-color: #E2EBFA;\n",
              "      box-shadow: 0px 1px 2px rgba(60, 64, 67, 0.3), 0px 1px 3px 1px rgba(60, 64, 67, 0.15);\n",
              "      fill: #174EA6;\n",
              "    }\n",
              "\n",
              "    [theme=dark] .colab-df-convert {\n",
              "      background-color: #3B4455;\n",
              "      fill: #D2E3FC;\n",
              "    }\n",
              "\n",
              "    [theme=dark] .colab-df-convert:hover {\n",
              "      background-color: #434B5C;\n",
              "      box-shadow: 0px 1px 3px 1px rgba(0, 0, 0, 0.15);\n",
              "      filter: drop-shadow(0px 1px 2px rgba(0, 0, 0, 0.3));\n",
              "      fill: #FFFFFF;\n",
              "    }\n",
              "  </style>\n",
              "\n",
              "      <script>\n",
              "        const buttonEl =\n",
              "          document.querySelector('#df-613f5367-403b-4cde-8046-a729b2518c77 button.colab-df-convert');\n",
              "        buttonEl.style.display =\n",
              "          google.colab.kernel.accessAllowed ? 'block' : 'none';\n",
              "\n",
              "        async function convertToInteractive(key) {\n",
              "          const element = document.querySelector('#df-613f5367-403b-4cde-8046-a729b2518c77');\n",
              "          const dataTable =\n",
              "            await google.colab.kernel.invokeFunction('convertToInteractive',\n",
              "                                                     [key], {});\n",
              "          if (!dataTable) return;\n",
              "\n",
              "          const docLinkHtml = 'Like what you see? Visit the ' +\n",
              "            '<a target=\"_blank\" href=https://colab.research.google.com/notebooks/data_table.ipynb>data table notebook</a>'\n",
              "            + ' to learn more about interactive tables.';\n",
              "          element.innerHTML = '';\n",
              "          dataTable['output_type'] = 'display_data';\n",
              "          await google.colab.output.renderOutput(dataTable, element);\n",
              "          const docLink = document.createElement('div');\n",
              "          docLink.innerHTML = docLinkHtml;\n",
              "          element.appendChild(docLink);\n",
              "        }\n",
              "      </script>\n",
              "    </div>\n",
              "  </div>\n",
              "  "
            ]
          },
          "metadata": {},
          "execution_count": 36
        }
      ]
    },
    {
      "cell_type": "code",
      "source": [
        "defaulter_by_profession_income = defaulter.groupby(['Profession']).mean()[['Income']].sort_values(by='Income',ascending=False)\n",
        "defaulter_by_profession_income"
      ],
      "metadata": {
        "colab": {
          "base_uri": "https://localhost:8080/",
          "height": 1000
        },
        "id": "61qK9zobwtz7",
        "outputId": "bf4b7402-177e-47f7-9d7c-9cf319899213"
      },
      "execution_count": null,
      "outputs": [
        {
          "output_type": "execute_result",
          "data": {
            "text/plain": [
              "                                  Income\n",
              "Profession                              \n",
              "Chemical_engineer           6.183468e+06\n",
              "Scientist                   6.165221e+06\n",
              "Army_officer                6.143384e+06\n",
              "Secretary                   5.848192e+06\n",
              "Computer_hardware_engineer  5.684864e+06\n",
              "Surveyor                    5.518711e+06\n",
              "Civil_engineer              5.507777e+06\n",
              "Biomedical_Engineer         5.505449e+06\n",
              "Technician                  5.450803e+06\n",
              "Chartered_Accountant        5.401306e+06\n",
              "Web_designer                5.381374e+06\n",
              "Designer                    5.347051e+06\n",
              "Technical_writer            5.331752e+06\n",
              "Architect                   5.331138e+06\n",
              "Chef                        5.308259e+06\n",
              "Psychologist                5.259097e+06\n",
              "Petroleum_Engineer          5.219079e+06\n",
              "Lawyer                      5.216305e+06\n",
              "Comedian                    5.073579e+06\n",
              "Surgeon                     5.060262e+06\n",
              "Aviator                     4.961316e+06\n",
              "Fashion_Designer            4.946958e+06\n",
              "Analyst                     4.921895e+06\n",
              "Firefighter                 4.919852e+06\n",
              "Technology_specialist       4.886673e+06\n",
              "Dentist                     4.843002e+06\n",
              "Artist                      4.824665e+06\n",
              "Librarian                   4.814397e+06\n",
              "Industrial_Engineer         4.805094e+06\n",
              "Microbiologist              4.787477e+06\n",
              "Economist                   4.762893e+06\n",
              "Computer_operator           4.756030e+06\n",
              "Mechanical_engineer         4.682184e+06\n",
              "Flight_attendant            4.664013e+06\n",
              "Physician                   4.660610e+06\n",
              "Air_traffic_controller      4.654550e+06\n",
              "Geologist                   4.638824e+06\n",
              "Engineer                    4.621906e+06\n",
              "Design_Engineer             4.617955e+06\n",
              "Statistician                4.616291e+06\n",
              "Civil_servant               4.611873e+06\n",
              "Official                    4.610308e+06\n",
              "Magistrate                  4.566244e+06\n",
              "Hotel_Manager               4.542335e+06\n",
              "Politician                  4.480431e+06\n",
              "Police_officer              4.407425e+06\n",
              "Financial_Analyst           4.365603e+06\n",
              "Graphic_Designer            4.361594e+06\n",
              "Software_Developer          4.169034e+06\n",
              "Consultant                  3.944649e+06\n",
              "Drafter                     3.800303e+06"
            ],
            "text/html": [
              "\n",
              "  <div id=\"df-fe77dfb2-14f4-41f3-81ee-45de61768b54\">\n",
              "    <div class=\"colab-df-container\">\n",
              "      <div>\n",
              "<style scoped>\n",
              "    .dataframe tbody tr th:only-of-type {\n",
              "        vertical-align: middle;\n",
              "    }\n",
              "\n",
              "    .dataframe tbody tr th {\n",
              "        vertical-align: top;\n",
              "    }\n",
              "\n",
              "    .dataframe thead th {\n",
              "        text-align: right;\n",
              "    }\n",
              "</style>\n",
              "<table border=\"1\" class=\"dataframe\">\n",
              "  <thead>\n",
              "    <tr style=\"text-align: right;\">\n",
              "      <th></th>\n",
              "      <th>Income</th>\n",
              "    </tr>\n",
              "    <tr>\n",
              "      <th>Profession</th>\n",
              "      <th></th>\n",
              "    </tr>\n",
              "  </thead>\n",
              "  <tbody>\n",
              "    <tr>\n",
              "      <th>Chemical_engineer</th>\n",
              "      <td>6.183468e+06</td>\n",
              "    </tr>\n",
              "    <tr>\n",
              "      <th>Scientist</th>\n",
              "      <td>6.165221e+06</td>\n",
              "    </tr>\n",
              "    <tr>\n",
              "      <th>Army_officer</th>\n",
              "      <td>6.143384e+06</td>\n",
              "    </tr>\n",
              "    <tr>\n",
              "      <th>Secretary</th>\n",
              "      <td>5.848192e+06</td>\n",
              "    </tr>\n",
              "    <tr>\n",
              "      <th>Computer_hardware_engineer</th>\n",
              "      <td>5.684864e+06</td>\n",
              "    </tr>\n",
              "    <tr>\n",
              "      <th>Surveyor</th>\n",
              "      <td>5.518711e+06</td>\n",
              "    </tr>\n",
              "    <tr>\n",
              "      <th>Civil_engineer</th>\n",
              "      <td>5.507777e+06</td>\n",
              "    </tr>\n",
              "    <tr>\n",
              "      <th>Biomedical_Engineer</th>\n",
              "      <td>5.505449e+06</td>\n",
              "    </tr>\n",
              "    <tr>\n",
              "      <th>Technician</th>\n",
              "      <td>5.450803e+06</td>\n",
              "    </tr>\n",
              "    <tr>\n",
              "      <th>Chartered_Accountant</th>\n",
              "      <td>5.401306e+06</td>\n",
              "    </tr>\n",
              "    <tr>\n",
              "      <th>Web_designer</th>\n",
              "      <td>5.381374e+06</td>\n",
              "    </tr>\n",
              "    <tr>\n",
              "      <th>Designer</th>\n",
              "      <td>5.347051e+06</td>\n",
              "    </tr>\n",
              "    <tr>\n",
              "      <th>Technical_writer</th>\n",
              "      <td>5.331752e+06</td>\n",
              "    </tr>\n",
              "    <tr>\n",
              "      <th>Architect</th>\n",
              "      <td>5.331138e+06</td>\n",
              "    </tr>\n",
              "    <tr>\n",
              "      <th>Chef</th>\n",
              "      <td>5.308259e+06</td>\n",
              "    </tr>\n",
              "    <tr>\n",
              "      <th>Psychologist</th>\n",
              "      <td>5.259097e+06</td>\n",
              "    </tr>\n",
              "    <tr>\n",
              "      <th>Petroleum_Engineer</th>\n",
              "      <td>5.219079e+06</td>\n",
              "    </tr>\n",
              "    <tr>\n",
              "      <th>Lawyer</th>\n",
              "      <td>5.216305e+06</td>\n",
              "    </tr>\n",
              "    <tr>\n",
              "      <th>Comedian</th>\n",
              "      <td>5.073579e+06</td>\n",
              "    </tr>\n",
              "    <tr>\n",
              "      <th>Surgeon</th>\n",
              "      <td>5.060262e+06</td>\n",
              "    </tr>\n",
              "    <tr>\n",
              "      <th>Aviator</th>\n",
              "      <td>4.961316e+06</td>\n",
              "    </tr>\n",
              "    <tr>\n",
              "      <th>Fashion_Designer</th>\n",
              "      <td>4.946958e+06</td>\n",
              "    </tr>\n",
              "    <tr>\n",
              "      <th>Analyst</th>\n",
              "      <td>4.921895e+06</td>\n",
              "    </tr>\n",
              "    <tr>\n",
              "      <th>Firefighter</th>\n",
              "      <td>4.919852e+06</td>\n",
              "    </tr>\n",
              "    <tr>\n",
              "      <th>Technology_specialist</th>\n",
              "      <td>4.886673e+06</td>\n",
              "    </tr>\n",
              "    <tr>\n",
              "      <th>Dentist</th>\n",
              "      <td>4.843002e+06</td>\n",
              "    </tr>\n",
              "    <tr>\n",
              "      <th>Artist</th>\n",
              "      <td>4.824665e+06</td>\n",
              "    </tr>\n",
              "    <tr>\n",
              "      <th>Librarian</th>\n",
              "      <td>4.814397e+06</td>\n",
              "    </tr>\n",
              "    <tr>\n",
              "      <th>Industrial_Engineer</th>\n",
              "      <td>4.805094e+06</td>\n",
              "    </tr>\n",
              "    <tr>\n",
              "      <th>Microbiologist</th>\n",
              "      <td>4.787477e+06</td>\n",
              "    </tr>\n",
              "    <tr>\n",
              "      <th>Economist</th>\n",
              "      <td>4.762893e+06</td>\n",
              "    </tr>\n",
              "    <tr>\n",
              "      <th>Computer_operator</th>\n",
              "      <td>4.756030e+06</td>\n",
              "    </tr>\n",
              "    <tr>\n",
              "      <th>Mechanical_engineer</th>\n",
              "      <td>4.682184e+06</td>\n",
              "    </tr>\n",
              "    <tr>\n",
              "      <th>Flight_attendant</th>\n",
              "      <td>4.664013e+06</td>\n",
              "    </tr>\n",
              "    <tr>\n",
              "      <th>Physician</th>\n",
              "      <td>4.660610e+06</td>\n",
              "    </tr>\n",
              "    <tr>\n",
              "      <th>Air_traffic_controller</th>\n",
              "      <td>4.654550e+06</td>\n",
              "    </tr>\n",
              "    <tr>\n",
              "      <th>Geologist</th>\n",
              "      <td>4.638824e+06</td>\n",
              "    </tr>\n",
              "    <tr>\n",
              "      <th>Engineer</th>\n",
              "      <td>4.621906e+06</td>\n",
              "    </tr>\n",
              "    <tr>\n",
              "      <th>Design_Engineer</th>\n",
              "      <td>4.617955e+06</td>\n",
              "    </tr>\n",
              "    <tr>\n",
              "      <th>Statistician</th>\n",
              "      <td>4.616291e+06</td>\n",
              "    </tr>\n",
              "    <tr>\n",
              "      <th>Civil_servant</th>\n",
              "      <td>4.611873e+06</td>\n",
              "    </tr>\n",
              "    <tr>\n",
              "      <th>Official</th>\n",
              "      <td>4.610308e+06</td>\n",
              "    </tr>\n",
              "    <tr>\n",
              "      <th>Magistrate</th>\n",
              "      <td>4.566244e+06</td>\n",
              "    </tr>\n",
              "    <tr>\n",
              "      <th>Hotel_Manager</th>\n",
              "      <td>4.542335e+06</td>\n",
              "    </tr>\n",
              "    <tr>\n",
              "      <th>Politician</th>\n",
              "      <td>4.480431e+06</td>\n",
              "    </tr>\n",
              "    <tr>\n",
              "      <th>Police_officer</th>\n",
              "      <td>4.407425e+06</td>\n",
              "    </tr>\n",
              "    <tr>\n",
              "      <th>Financial_Analyst</th>\n",
              "      <td>4.365603e+06</td>\n",
              "    </tr>\n",
              "    <tr>\n",
              "      <th>Graphic_Designer</th>\n",
              "      <td>4.361594e+06</td>\n",
              "    </tr>\n",
              "    <tr>\n",
              "      <th>Software_Developer</th>\n",
              "      <td>4.169034e+06</td>\n",
              "    </tr>\n",
              "    <tr>\n",
              "      <th>Consultant</th>\n",
              "      <td>3.944649e+06</td>\n",
              "    </tr>\n",
              "    <tr>\n",
              "      <th>Drafter</th>\n",
              "      <td>3.800303e+06</td>\n",
              "    </tr>\n",
              "  </tbody>\n",
              "</table>\n",
              "</div>\n",
              "      <button class=\"colab-df-convert\" onclick=\"convertToInteractive('df-fe77dfb2-14f4-41f3-81ee-45de61768b54')\"\n",
              "              title=\"Convert this dataframe to an interactive table.\"\n",
              "              style=\"display:none;\">\n",
              "        \n",
              "  <svg xmlns=\"http://www.w3.org/2000/svg\" height=\"24px\"viewBox=\"0 0 24 24\"\n",
              "       width=\"24px\">\n",
              "    <path d=\"M0 0h24v24H0V0z\" fill=\"none\"/>\n",
              "    <path d=\"M18.56 5.44l.94 2.06.94-2.06 2.06-.94-2.06-.94-.94-2.06-.94 2.06-2.06.94zm-11 1L8.5 8.5l.94-2.06 2.06-.94-2.06-.94L8.5 2.5l-.94 2.06-2.06.94zm10 10l.94 2.06.94-2.06 2.06-.94-2.06-.94-.94-2.06-.94 2.06-2.06.94z\"/><path d=\"M17.41 7.96l-1.37-1.37c-.4-.4-.92-.59-1.43-.59-.52 0-1.04.2-1.43.59L10.3 9.45l-7.72 7.72c-.78.78-.78 2.05 0 2.83L4 21.41c.39.39.9.59 1.41.59.51 0 1.02-.2 1.41-.59l7.78-7.78 2.81-2.81c.8-.78.8-2.07 0-2.86zM5.41 20L4 18.59l7.72-7.72 1.47 1.35L5.41 20z\"/>\n",
              "  </svg>\n",
              "      </button>\n",
              "      \n",
              "  <style>\n",
              "    .colab-df-container {\n",
              "      display:flex;\n",
              "      flex-wrap:wrap;\n",
              "      gap: 12px;\n",
              "    }\n",
              "\n",
              "    .colab-df-convert {\n",
              "      background-color: #E8F0FE;\n",
              "      border: none;\n",
              "      border-radius: 50%;\n",
              "      cursor: pointer;\n",
              "      display: none;\n",
              "      fill: #1967D2;\n",
              "      height: 32px;\n",
              "      padding: 0 0 0 0;\n",
              "      width: 32px;\n",
              "    }\n",
              "\n",
              "    .colab-df-convert:hover {\n",
              "      background-color: #E2EBFA;\n",
              "      box-shadow: 0px 1px 2px rgba(60, 64, 67, 0.3), 0px 1px 3px 1px rgba(60, 64, 67, 0.15);\n",
              "      fill: #174EA6;\n",
              "    }\n",
              "\n",
              "    [theme=dark] .colab-df-convert {\n",
              "      background-color: #3B4455;\n",
              "      fill: #D2E3FC;\n",
              "    }\n",
              "\n",
              "    [theme=dark] .colab-df-convert:hover {\n",
              "      background-color: #434B5C;\n",
              "      box-shadow: 0px 1px 3px 1px rgba(0, 0, 0, 0.15);\n",
              "      filter: drop-shadow(0px 1px 2px rgba(0, 0, 0, 0.3));\n",
              "      fill: #FFFFFF;\n",
              "    }\n",
              "  </style>\n",
              "\n",
              "      <script>\n",
              "        const buttonEl =\n",
              "          document.querySelector('#df-fe77dfb2-14f4-41f3-81ee-45de61768b54 button.colab-df-convert');\n",
              "        buttonEl.style.display =\n",
              "          google.colab.kernel.accessAllowed ? 'block' : 'none';\n",
              "\n",
              "        async function convertToInteractive(key) {\n",
              "          const element = document.querySelector('#df-fe77dfb2-14f4-41f3-81ee-45de61768b54');\n",
              "          const dataTable =\n",
              "            await google.colab.kernel.invokeFunction('convertToInteractive',\n",
              "                                                     [key], {});\n",
              "          if (!dataTable) return;\n",
              "\n",
              "          const docLinkHtml = 'Like what you see? Visit the ' +\n",
              "            '<a target=\"_blank\" href=https://colab.research.google.com/notebooks/data_table.ipynb>data table notebook</a>'\n",
              "            + ' to learn more about interactive tables.';\n",
              "          element.innerHTML = '';\n",
              "          dataTable['output_type'] = 'display_data';\n",
              "          await google.colab.output.renderOutput(dataTable, element);\n",
              "          const docLink = document.createElement('div');\n",
              "          docLink.innerHTML = docLinkHtml;\n",
              "          element.appendChild(docLink);\n",
              "        }\n",
              "      </script>\n",
              "    </div>\n",
              "  </div>\n",
              "  "
            ]
          },
          "metadata": {},
          "execution_count": 37
        }
      ]
    },
    {
      "cell_type": "code",
      "source": [
        "defaulter_by_profession_income.head(10).plot(kind='barh',figsize=(10,10))\n",
        "plt.title('Top 10 Average Income of Loan Defaulting Professions') \n",
        "plt.xlabel('Income')\n",
        "plt.ylabel('Profession')\n",
        "for index,value in enumerate(defaulter_by_profession_income['Income'].head(10)):\n",
        "    plt.text(value-900000,index-0.1,str(int(value)))\n",
        "\n",
        "plt.legend(loc='best')\n",
        "plt.show()"
      ],
      "metadata": {
        "id": "rFrbQ-SHgISq",
        "colab": {
          "base_uri": "https://localhost:8080/",
          "height": 621
        },
        "outputId": "9fcebf63-dfab-4906-c372-bba6ba7946e1"
      },
      "execution_count": null,
      "outputs": [
        {
          "output_type": "display_data",
          "data": {
            "text/plain": [
              "<Figure size 720x720 with 1 Axes>"
            ],
            "image/png": "[encoded data removed]"
          },
          "metadata": {
            "needs_background": "light"
          }
        }
      ]
    },
    {
      "cell_type": "code",
      "source": [
        "defaulter_by_profession_income.index"
      ],
      "metadata": {
        "colab": {
          "base_uri": "https://localhost:8080/"
        },
        "id": "yP7ifpUcvmVp",
        "outputId": "e6c6fbfd-c88d-49ab-dede-6732816a7b7b"
      },
      "execution_count": null,
      "outputs": [
        {
          "output_type": "execute_result",
          "data": {
            "text/plain": [
              "Index(['Chemical_engineer', 'Scientist', 'Army_officer', 'Secretary',\n",
              "       'Computer_hardware_engineer', 'Surveyor', 'Civil_engineer',\n",
              "       'Biomedical_Engineer', 'Technician', 'Chartered_Accountant',\n",
              "       'Web_designer', 'Designer', 'Technical_writer', 'Architect', 'Chef',\n",
              "       'Psychologist', 'Petroleum_Engineer', 'Lawyer', 'Comedian', 'Surgeon',\n",
              "       'Aviator', 'Fashion_Designer', 'Analyst', 'Firefighter',\n",
              "       'Technology_specialist', 'Dentist', 'Artist', 'Librarian',\n",
              "       'Industrial_Engineer', 'Microbiologist', 'Economist',\n",
              "       'Computer_operator', 'Mechanical_engineer', 'Flight_attendant',\n",
              "       'Physician', 'Air_traffic_controller', 'Geologist', 'Engineer',\n",
              "       'Design_Engineer', 'Statistician', 'Civil_servant', 'Official',\n",
              "       'Magistrate', 'Hotel_Manager', 'Politician', 'Police_officer',\n",
              "       'Financial_Analyst', 'Graphic_Designer', 'Software_Developer',\n",
              "       'Consultant', 'Drafter'],\n",
              "      dtype='object', name='Profession')"
            ]
          },
          "metadata": {},
          "execution_count": 39
        }
      ]
    },
    {
      "cell_type": "markdown",
      "source": [
        "* Top 10 highest Average Income of Loan Defaulting Professions are 'Chemical_engineer', 'Scientist', 'Army_officer', 'Secretary', 'Computer_hardware_engineer', 'Surveyor', 'Civil_engineer', 'Biomedical_Engineer', 'Technician', 'Chartered_Accountant'"
      ],
      "metadata": {
        "id": "tuAZndDovQS_"
      }
    },
    {
      "cell_type": "markdown",
      "source": [
        "## Distribution of Non-Defaulter and Defaulter Customer by Sate"
      ],
      "metadata": {
        "id": "umJ1pHgtvtAb"
      }
    },
    {
      "cell_type": "code",
      "source": [
        "top_state_loan = df['STATE'].value_counts().head(10)\n",
        "top_state_loan"
      ],
      "metadata": {
        "id": "jra1h0SStze4",
        "colab": {
          "base_uri": "https://localhost:8080/"
        },
        "outputId": "b6bae6cc-6e7e-4ec5-8b37-ed954853fe53"
      },
      "execution_count": null,
      "outputs": [
        {
          "output_type": "execute_result",
          "data": {
            "text/plain": [
              "Uttar_Pradesh     28400\n",
              "Maharashtra       25562\n",
              "Andhra_Pradesh    25297\n",
              "West_Bengal       23483\n",
              "Bihar             19780\n",
              "Tamil_Nadu        16537\n",
              "Madhya_Pradesh    14122\n",
              "Karnataka         11855\n",
              "Gujarat           11408\n",
              "Rajasthan          9174\n",
              "Name: STATE, dtype: int64"
            ]
          },
          "metadata": {},
          "execution_count": 40
        }
      ]
    },
    {
      "cell_type": "code",
      "source": [
        "top_state_loan.plot(kind='bar',x='STATE',figsize=(10,10), color='coral')\n",
        "plt.legend(loc='best')\n",
        "plt.title('Top 10 State Who Took Loan')\n",
        "plt.xlabel('Loan Count')\n",
        "plt.ylabel('State')\n",
        "for index,value in enumerate(top_state_loan):\n",
        "    plt.text(index-0.2,value+50,str(value))\n",
        "plt.show() "
      ],
      "metadata": {
        "colab": {
          "base_uri": "https://localhost:8080/",
          "height": 696
        },
        "id": "PU73sjgk6TOG",
        "outputId": "a2755626-a48c-4778-99c5-b3d0e2235ad4"
      },
      "execution_count": null,
      "outputs": [
        {
          "output_type": "display_data",
          "data": {
            "text/plain": [
              "<Figure size 720x720 with 1 Axes>"
            ],
            "image/png": "[encoded data removed]"
          },
          "metadata": {
            "needs_background": "light"
          }
        }
      ]
    },
    {
      "cell_type": "markdown",
      "source": [
        "* Top 10 State who took loan 'Uttar_Pradesh', 'Maharashtra', 'Andhra_Pradesh', 'West_Bengal', 'Bihar', 'Tamil_Nadu', 'Madhya_Pradesh', 'Karnataka', 'Gujarat', 'Rajasthan'"
      ],
      "metadata": {
        "id": "f0zFXUxd6270"
      }
    },
    {
      "cell_type": "markdown",
      "source": [
        "## Distribution of Non-Defaulter and Defaulter Customer by City"
      ],
      "metadata": {
        "id": "ivnh_C-3v7Kq"
      }
    },
    {
      "cell_type": "markdown",
      "source": [
        "# **Data Preprocessing**"
      ],
      "metadata": {
        "id": "vKvoQ02tQgKS"
      }
    },
    {
      "cell_type": "markdown",
      "source": [
        "## Droping Unused Column"
      ],
      "metadata": {
        "id": "xb0FVNfFw0IU"
      }
    },
    {
      "cell_type": "code",
      "source": [
        "df.drop(['Id'],axis=1,inplace=True)"
      ],
      "metadata": {
        "id": "zlmkbdH0Hnuc"
      },
      "execution_count": 7,
      "outputs": []
    },
    {
      "cell_type": "markdown",
      "source": [
        "## Handling Categorical Variables"
      ],
      "metadata": {
        "id": "As2ThVi3w4Jd"
      }
    },
    {
      "cell_type": "code",
      "source": [
        "cols_to_encode= ['Married/Single','House_Ownership','Car_Ownership','Profession','CITY','STATE']\n",
        "labelencoder = LabelEncoder()\n",
        "\n",
        "for col in cols_to_encode:\n",
        "    df[col] = labelencoder.fit_transform(df[col])"
      ],
      "metadata": {
        "id": "nHysosoFH7r8"
      },
      "execution_count": 8,
      "outputs": []
    },
    {
      "cell_type": "code",
      "source": [
        "df"
      ],
      "metadata": {
        "colab": {
          "base_uri": "https://localhost:8080/",
          "height": 424
        },
        "id": "pu86D47FIMTE",
        "outputId": "eda8e254-f00c-4db6-d7f0-41af6eb97357"
      },
      "execution_count": 9,
      "outputs": [
        {
          "output_type": "execute_result",
          "data": {
            "text/plain": [
              "         Income  Age  Experience  Married/Single  House_Ownership  \\\n",
              "0       1303834   23           3               1                2   \n",
              "1       7574516   40          10               1                2   \n",
              "2       3991815   66           4               0                2   \n",
              "3       6256451   41           2               1                2   \n",
              "4       5768871   47          11               1                2   \n",
              "...         ...  ...         ...             ...              ...   \n",
              "251995  8154883   43          13               1                2   \n",
              "251996  2843572   26          10               1                2   \n",
              "251997  4522448   46           7               1                2   \n",
              "251998  6507128   45           0               1                2   \n",
              "251999  9070230   70          17               1                2   \n",
              "\n",
              "        Car_Ownership  Profession  CITY  STATE  CURRENT_JOB_YRS  \\\n",
              "0                   0          33   251     13                3   \n",
              "1                   0          43   227     14                9   \n",
              "2                   0          47     8     12                4   \n",
              "3                   1          43    54     17                2   \n",
              "4                   0          11   296     22                3   \n",
              "...               ...         ...   ...    ...              ...   \n",
              "251995              0          45   162     28                6   \n",
              "251996              0           3   251     13                6   \n",
              "251997              0          17   144     14                7   \n",
              "251998              0          27   233     18                0   \n",
              "251999              0          44    26     22                7   \n",
              "\n",
              "        CURRENT_HOUSE_YRS  Risk_Flag  \n",
              "0                      13          0  \n",
              "1                      13          0  \n",
              "2                      10          0  \n",
              "3                      12          1  \n",
              "4                      14          1  \n",
              "...                   ...        ...  \n",
              "251995                 11          0  \n",
              "251996                 11          0  \n",
              "251997                 12          0  \n",
              "251998                 10          0  \n",
              "251999                 11          0  \n",
              "\n",
              "[252000 rows x 12 columns]"
            ],
            "text/html": [
              "\n",
              "  <div id=\"df-6d443f87-f0f9-4cbc-b6cd-1f26239c46bd\">\n",
              "    <div class=\"colab-df-container\">\n",
              "      <div>\n",
              "<style scoped>\n",
              "    .dataframe tbody tr th:only-of-type {\n",
              "        vertical-align: middle;\n",
              "    }\n",
              "\n",
              "    .dataframe tbody tr th {\n",
              "        vertical-align: top;\n",
              "    }\n",
              "\n",
              "    .dataframe thead th {\n",
              "        text-align: right;\n",
              "    }\n",
              "</style>\n",
              "<table border=\"1\" class=\"dataframe\">\n",
              "  <thead>\n",
              "    <tr style=\"text-align: right;\">\n",
              "      <th></th>\n",
              "      <th>Income</th>\n",
              "      <th>Age</th>\n",
              "      <th>Experience</th>\n",
              "      <th>Married/Single</th>\n",
              "      <th>House_Ownership</th>\n",
              "      <th>Car_Ownership</th>\n",
              "      <th>Profession</th>\n",
              "      <th>CITY</th>\n",
              "      <th>STATE</th>\n",
              "      <th>CURRENT_JOB_YRS</th>\n",
              "      <th>CURRENT_HOUSE_YRS</th>\n",
              "      <th>Risk_Flag</th>\n",
              "    </tr>\n",
              "  </thead>\n",
              "  <tbody>\n",
              "    <tr>\n",
              "      <th>0</th>\n",
              "      <td>1303834</td>\n",
              "      <td>23</td>\n",
              "      <td>3</td>\n",
              "      <td>1</td>\n",
              "      <td>2</td>\n",
              "      <td>0</td>\n",
              "      <td>33</td>\n",
              "      <td>251</td>\n",
              "      <td>13</td>\n",
              "      <td>3</td>\n",
              "      <td>13</td>\n",
              "      <td>0</td>\n",
              "    </tr>\n",
              "    <tr>\n",
              "      <th>1</th>\n",
              "      <td>7574516</td>\n",
              "      <td>40</td>\n",
              "      <td>10</td>\n",
              "      <td>1</td>\n",
              "      <td>2</td>\n",
              "      <td>0</td>\n",
              "      <td>43</td>\n",
              "      <td>227</td>\n",
              "      <td>14</td>\n",
              "      <td>9</td>\n",
              "      <td>13</td>\n",
              "      <td>0</td>\n",
              "    </tr>\n",
              "    <tr>\n",
              "      <th>2</th>\n",
              "      <td>3991815</td>\n",
              "      <td>66</td>\n",
              "      <td>4</td>\n",
              "      <td>0</td>\n",
              "      <td>2</td>\n",
              "      <td>0</td>\n",
              "      <td>47</td>\n",
              "      <td>8</td>\n",
              "      <td>12</td>\n",
              "      <td>4</td>\n",
              "      <td>10</td>\n",
              "      <td>0</td>\n",
              "    </tr>\n",
              "    <tr>\n",
              "      <th>3</th>\n",
              "      <td>6256451</td>\n",
              "      <td>41</td>\n",
              "      <td>2</td>\n",
              "      <td>1</td>\n",
              "      <td>2</td>\n",
              "      <td>1</td>\n",
              "      <td>43</td>\n",
              "      <td>54</td>\n",
              "      <td>17</td>\n",
              "      <td>2</td>\n",
              "      <td>12</td>\n",
              "      <td>1</td>\n",
              "    </tr>\n",
              "    <tr>\n",
              "      <th>4</th>\n",
              "      <td>5768871</td>\n",
              "      <td>47</td>\n",
              "      <td>11</td>\n",
              "      <td>1</td>\n",
              "      <td>2</td>\n",
              "      <td>0</td>\n",
              "      <td>11</td>\n",
              "      <td>296</td>\n",
              "      <td>22</td>\n",
              "      <td>3</td>\n",
              "      <td>14</td>\n",
              "      <td>1</td>\n",
              "    </tr>\n",
              "    <tr>\n",
              "      <th>...</th>\n",
              "      <td>...</td>\n",
              "      <td>...</td>\n",
              "      <td>...</td>\n",
              "      <td>...</td>\n",
              "      <td>...</td>\n",
              "      <td>...</td>\n",
              "      <td>...</td>\n",
              "      <td>...</td>\n",
              "      <td>...</td>\n",
              "      <td>...</td>\n",
              "      <td>...</td>\n",
              "      <td>...</td>\n",
              "    </tr>\n",
              "    <tr>\n",
              "      <th>251995</th>\n",
              "      <td>8154883</td>\n",
              "      <td>43</td>\n",
              "      <td>13</td>\n",
              "      <td>1</td>\n",
              "      <td>2</td>\n",
              "      <td>0</td>\n",
              "      <td>45</td>\n",
              "      <td>162</td>\n",
              "      <td>28</td>\n",
              "      <td>6</td>\n",
              "      <td>11</td>\n",
              "      <td>0</td>\n",
              "    </tr>\n",
              "    <tr>\n",
              "      <th>251996</th>\n",
              "      <td>2843572</td>\n",
              "      <td>26</td>\n",
              "      <td>10</td>\n",
              "      <td>1</td>\n",
              "      <td>2</td>\n",
              "      <td>0</td>\n",
              "      <td>3</td>\n",
              "      <td>251</td>\n",
              "      <td>13</td>\n",
              "      <td>6</td>\n",
              "      <td>11</td>\n",
              "      <td>0</td>\n",
              "    </tr>\n",
              "    <tr>\n",
              "      <th>251997</th>\n",
              "      <td>4522448</td>\n",
              "      <td>46</td>\n",
              "      <td>7</td>\n",
              "      <td>1</td>\n",
              "      <td>2</td>\n",
              "      <td>0</td>\n",
              "      <td>17</td>\n",
              "      <td>144</td>\n",
              "      <td>14</td>\n",
              "      <td>7</td>\n",
              "      <td>12</td>\n",
              "      <td>0</td>\n",
              "    </tr>\n",
              "    <tr>\n",
              "      <th>251998</th>\n",
              "      <td>6507128</td>\n",
              "      <td>45</td>\n",
              "      <td>0</td>\n",
              "      <td>1</td>\n",
              "      <td>2</td>\n",
              "      <td>0</td>\n",
              "      <td>27</td>\n",
              "      <td>233</td>\n",
              "      <td>18</td>\n",
              "      <td>0</td>\n",
              "      <td>10</td>\n",
              "      <td>0</td>\n",
              "    </tr>\n",
              "    <tr>\n",
              "      <th>251999</th>\n",
              "      <td>9070230</td>\n",
              "      <td>70</td>\n",
              "      <td>17</td>\n",
              "      <td>1</td>\n",
              "      <td>2</td>\n",
              "      <td>0</td>\n",
              "      <td>44</td>\n",
              "      <td>26</td>\n",
              "      <td>22</td>\n",
              "      <td>7</td>\n",
              "      <td>11</td>\n",
              "      <td>0</td>\n",
              "    </tr>\n",
              "  </tbody>\n",
              "</table>\n",
              "<p>252000 rows × 12 columns</p>\n",
              "</div>\n",
              "      <button class=\"colab-df-convert\" onclick=\"convertToInteractive('df-6d443f87-f0f9-4cbc-b6cd-1f26239c46bd')\"\n",
              "              title=\"Convert this dataframe to an interactive table.\"\n",
              "              style=\"display:none;\">\n",
              "        \n",
              "  <svg xmlns=\"http://www.w3.org/2000/svg\" height=\"24px\"viewBox=\"0 0 24 24\"\n",
              "       width=\"24px\">\n",
              "    <path d=\"M0 0h24v24H0V0z\" fill=\"none\"/>\n",
              "    <path d=\"M18.56 5.44l.94 2.06.94-2.06 2.06-.94-2.06-.94-.94-2.06-.94 2.06-2.06.94zm-11 1L8.5 8.5l.94-2.06 2.06-.94-2.06-.94L8.5 2.5l-.94 2.06-2.06.94zm10 10l.94 2.06.94-2.06 2.06-.94-2.06-.94-.94-2.06-.94 2.06-2.06.94z\"/><path d=\"M17.41 7.96l-1.37-1.37c-.4-.4-.92-.59-1.43-.59-.52 0-1.04.2-1.43.59L10.3 9.45l-7.72 7.72c-.78.78-.78 2.05 0 2.83L4 21.41c.39.39.9.59 1.41.59.51 0 1.02-.2 1.41-.59l7.78-7.78 2.81-2.81c.8-.78.8-2.07 0-2.86zM5.41 20L4 18.59l7.72-7.72 1.47 1.35L5.41 20z\"/>\n",
              "  </svg>\n",
              "      </button>\n",
              "      \n",
              "  <style>\n",
              "    .colab-df-container {\n",
              "      display:flex;\n",
              "      flex-wrap:wrap;\n",
              "      gap: 12px;\n",
              "    }\n",
              "\n",
              "    .colab-df-convert {\n",
              "      background-color: #E8F0FE;\n",
              "      border: none;\n",
              "      border-radius: 50%;\n",
              "      cursor: pointer;\n",
              "      display: none;\n",
              "      fill: #1967D2;\n",
              "      height: 32px;\n",
              "      padding: 0 0 0 0;\n",
              "      width: 32px;\n",
              "    }\n",
              "\n",
              "    .colab-df-convert:hover {\n",
              "      background-color: #E2EBFA;\n",
              "      box-shadow: 0px 1px 2px rgba(60, 64, 67, 0.3), 0px 1px 3px 1px rgba(60, 64, 67, 0.15);\n",
              "      fill: #174EA6;\n",
              "    }\n",
              "\n",
              "    [theme=dark] .colab-df-convert {\n",
              "      background-color: #3B4455;\n",
              "      fill: #D2E3FC;\n",
              "    }\n",
              "\n",
              "    [theme=dark] .colab-df-convert:hover {\n",
              "      background-color: #434B5C;\n",
              "      box-shadow: 0px 1px 3px 1px rgba(0, 0, 0, 0.15);\n",
              "      filter: drop-shadow(0px 1px 2px rgba(0, 0, 0, 0.3));\n",
              "      fill: #FFFFFF;\n",
              "    }\n",
              "  </style>\n",
              "\n",
              "      <script>\n",
              "        const buttonEl =\n",
              "          document.querySelector('#df-6d443f87-f0f9-4cbc-b6cd-1f26239c46bd button.colab-df-convert');\n",
              "        buttonEl.style.display =\n",
              "          google.colab.kernel.accessAllowed ? 'block' : 'none';\n",
              "\n",
              "        async function convertToInteractive(key) {\n",
              "          const element = document.querySelector('#df-6d443f87-f0f9-4cbc-b6cd-1f26239c46bd');\n",
              "          const dataTable =\n",
              "            await google.colab.kernel.invokeFunction('convertToInteractive',\n",
              "                                                     [key], {});\n",
              "          if (!dataTable) return;\n",
              "\n",
              "          const docLinkHtml = 'Like what you see? Visit the ' +\n",
              "            '<a target=\"_blank\" href=https://colab.research.google.com/notebooks/data_table.ipynb>data table notebook</a>'\n",
              "            + ' to learn more about interactive tables.';\n",
              "          element.innerHTML = '';\n",
              "          dataTable['output_type'] = 'display_data';\n",
              "          await google.colab.output.renderOutput(dataTable, element);\n",
              "          const docLink = document.createElement('div');\n",
              "          docLink.innerHTML = docLinkHtml;\n",
              "          element.appendChild(docLink);\n",
              "        }\n",
              "      </script>\n",
              "    </div>\n",
              "  </div>\n",
              "  "
            ]
          },
          "metadata": {},
          "execution_count": 9
        }
      ]
    },
    {
      "cell_type": "markdown",
      "source": [
        "## Handling Unbalanced Data"
      ],
      "metadata": {
        "id": "xPsov8Kjw_cV"
      }
    },
    {
      "cell_type": "code",
      "source": [
        "sampler = RandomOverSampler(random_state=42,sampling_strategy=0.5)\n",
        "X = df.iloc[:,:-1]\n",
        "y = df['Risk_Flag']"
      ],
      "metadata": {
        "id": "hsEEg2K2IdtA"
      },
      "execution_count": 10,
      "outputs": []
    },
    {
      "cell_type": "code",
      "source": [
        "X_sampled,y_sampled = sampler.fit_resample(X,y)"
      ],
      "metadata": {
        "id": "I1uK-u2zIh_3"
      },
      "execution_count": 11,
      "outputs": []
    },
    {
      "cell_type": "code",
      "source": [
        "print(Counter(y),Counter(y_sampled))"
      ],
      "metadata": {
        "colab": {
          "base_uri": "https://localhost:8080/"
        },
        "id": "ZCxScT5XIlAX",
        "outputId": "ea28d22d-eaba-44ad-da14-e558a81050f1"
      },
      "execution_count": 12,
      "outputs": [
        {
          "output_type": "stream",
          "name": "stdout",
          "text": [
            "Counter({0: 221004, 1: 30996}) Counter({0: 221004, 1: 110502})\n"
          ]
        }
      ]
    },
    {
      "cell_type": "code",
      "source": [
        "data = pd.concat([X_sampled,y_sampled],axis=1)"
      ],
      "metadata": {
        "id": "Bl3X0-zMIn5i"
      },
      "execution_count": 13,
      "outputs": []
    },
    {
      "cell_type": "code",
      "source": [
        "data.head()"
      ],
      "metadata": {
        "colab": {
          "base_uri": "https://localhost:8080/",
          "height": 206
        },
        "id": "eqcncrSdIsUg",
        "outputId": "beae8f26-7b86-43a9-be40-c37936463e2b"
      },
      "execution_count": 14,
      "outputs": [
        {
          "output_type": "execute_result",
          "data": {
            "text/plain": [
              "    Income  Age  Experience  Married/Single  House_Ownership  Car_Ownership  \\\n",
              "0  1303834   23           3               1                2              0   \n",
              "1  7574516   40          10               1                2              0   \n",
              "2  3991815   66           4               0                2              0   \n",
              "3  6256451   41           2               1                2              1   \n",
              "4  5768871   47          11               1                2              0   \n",
              "\n",
              "   Profession  CITY  STATE  CURRENT_JOB_YRS  CURRENT_HOUSE_YRS  Risk_Flag  \n",
              "0          33   251     13                3                 13          0  \n",
              "1          43   227     14                9                 13          0  \n",
              "2          47     8     12                4                 10          0  \n",
              "3          43    54     17                2                 12          1  \n",
              "4          11   296     22                3                 14          1  "
            ],
            "text/html": [
              "\n",
              "  <div id=\"df-43367832-48d6-42c8-b349-23998f29a715\">\n",
              "    <div class=\"colab-df-container\">\n",
              "      <div>\n",
              "<style scoped>\n",
              "    .dataframe tbody tr th:only-of-type {\n",
              "        vertical-align: middle;\n",
              "    }\n",
              "\n",
              "    .dataframe tbody tr th {\n",
              "        vertical-align: top;\n",
              "    }\n",
              "\n",
              "    .dataframe thead th {\n",
              "        text-align: right;\n",
              "    }\n",
              "</style>\n",
              "<table border=\"1\" class=\"dataframe\">\n",
              "  <thead>\n",
              "    <tr style=\"text-align: right;\">\n",
              "      <th></th>\n",
              "      <th>Income</th>\n",
              "      <th>Age</th>\n",
              "      <th>Experience</th>\n",
              "      <th>Married/Single</th>\n",
              "      <th>House_Ownership</th>\n",
              "      <th>Car_Ownership</th>\n",
              "      <th>Profession</th>\n",
              "      <th>CITY</th>\n",
              "      <th>STATE</th>\n",
              "      <th>CURRENT_JOB_YRS</th>\n",
              "      <th>CURRENT_HOUSE_YRS</th>\n",
              "      <th>Risk_Flag</th>\n",
              "    </tr>\n",
              "  </thead>\n",
              "  <tbody>\n",
              "    <tr>\n",
              "      <th>0</th>\n",
              "      <td>1303834</td>\n",
              "      <td>23</td>\n",
              "      <td>3</td>\n",
              "      <td>1</td>\n",
              "      <td>2</td>\n",
              "      <td>0</td>\n",
              "      <td>33</td>\n",
              "      <td>251</td>\n",
              "      <td>13</td>\n",
              "      <td>3</td>\n",
              "      <td>13</td>\n",
              "      <td>0</td>\n",
              "    </tr>\n",
              "    <tr>\n",
              "      <th>1</th>\n",
              "      <td>7574516</td>\n",
              "      <td>40</td>\n",
              "      <td>10</td>\n",
              "      <td>1</td>\n",
              "      <td>2</td>\n",
              "      <td>0</td>\n",
              "      <td>43</td>\n",
              "      <td>227</td>\n",
              "      <td>14</td>\n",
              "      <td>9</td>\n",
              "      <td>13</td>\n",
              "      <td>0</td>\n",
              "    </tr>\n",
              "    <tr>\n",
              "      <th>2</th>\n",
              "      <td>3991815</td>\n",
              "      <td>66</td>\n",
              "      <td>4</td>\n",
              "      <td>0</td>\n",
              "      <td>2</td>\n",
              "      <td>0</td>\n",
              "      <td>47</td>\n",
              "      <td>8</td>\n",
              "      <td>12</td>\n",
              "      <td>4</td>\n",
              "      <td>10</td>\n",
              "      <td>0</td>\n",
              "    </tr>\n",
              "    <tr>\n",
              "      <th>3</th>\n",
              "      <td>6256451</td>\n",
              "      <td>41</td>\n",
              "      <td>2</td>\n",
              "      <td>1</td>\n",
              "      <td>2</td>\n",
              "      <td>1</td>\n",
              "      <td>43</td>\n",
              "      <td>54</td>\n",
              "      <td>17</td>\n",
              "      <td>2</td>\n",
              "      <td>12</td>\n",
              "      <td>1</td>\n",
              "    </tr>\n",
              "    <tr>\n",
              "      <th>4</th>\n",
              "      <td>5768871</td>\n",
              "      <td>47</td>\n",
              "      <td>11</td>\n",
              "      <td>1</td>\n",
              "      <td>2</td>\n",
              "      <td>0</td>\n",
              "      <td>11</td>\n",
              "      <td>296</td>\n",
              "      <td>22</td>\n",
              "      <td>3</td>\n",
              "      <td>14</td>\n",
              "      <td>1</td>\n",
              "    </tr>\n",
              "  </tbody>\n",
              "</table>\n",
              "</div>\n",
              "      <button class=\"colab-df-convert\" onclick=\"convertToInteractive('df-43367832-48d6-42c8-b349-23998f29a715')\"\n",
              "              title=\"Convert this dataframe to an interactive table.\"\n",
              "              style=\"display:none;\">\n",
              "        \n",
              "  <svg xmlns=\"http://www.w3.org/2000/svg\" height=\"24px\"viewBox=\"0 0 24 24\"\n",
              "       width=\"24px\">\n",
              "    <path d=\"M0 0h24v24H0V0z\" fill=\"none\"/>\n",
              "    <path d=\"M18.56 5.44l.94 2.06.94-2.06 2.06-.94-2.06-.94-.94-2.06-.94 2.06-2.06.94zm-11 1L8.5 8.5l.94-2.06 2.06-.94-2.06-.94L8.5 2.5l-.94 2.06-2.06.94zm10 10l.94 2.06.94-2.06 2.06-.94-2.06-.94-.94-2.06-.94 2.06-2.06.94z\"/><path d=\"M17.41 7.96l-1.37-1.37c-.4-.4-.92-.59-1.43-.59-.52 0-1.04.2-1.43.59L10.3 9.45l-7.72 7.72c-.78.78-.78 2.05 0 2.83L4 21.41c.39.39.9.59 1.41.59.51 0 1.02-.2 1.41-.59l7.78-7.78 2.81-2.81c.8-.78.8-2.07 0-2.86zM5.41 20L4 18.59l7.72-7.72 1.47 1.35L5.41 20z\"/>\n",
              "  </svg>\n",
              "      </button>\n",
              "      \n",
              "  <style>\n",
              "    .colab-df-container {\n",
              "      display:flex;\n",
              "      flex-wrap:wrap;\n",
              "      gap: 12px;\n",
              "    }\n",
              "\n",
              "    .colab-df-convert {\n",
              "      background-color: #E8F0FE;\n",
              "      border: none;\n",
              "      border-radius: 50%;\n",
              "      cursor: pointer;\n",
              "      display: none;\n",
              "      fill: #1967D2;\n",
              "      height: 32px;\n",
              "      padding: 0 0 0 0;\n",
              "      width: 32px;\n",
              "    }\n",
              "\n",
              "    .colab-df-convert:hover {\n",
              "      background-color: #E2EBFA;\n",
              "      box-shadow: 0px 1px 2px rgba(60, 64, 67, 0.3), 0px 1px 3px 1px rgba(60, 64, 67, 0.15);\n",
              "      fill: #174EA6;\n",
              "    }\n",
              "\n",
              "    [theme=dark] .colab-df-convert {\n",
              "      background-color: #3B4455;\n",
              "      fill: #D2E3FC;\n",
              "    }\n",
              "\n",
              "    [theme=dark] .colab-df-convert:hover {\n",
              "      background-color: #434B5C;\n",
              "      box-shadow: 0px 1px 3px 1px rgba(0, 0, 0, 0.15);\n",
              "      filter: drop-shadow(0px 1px 2px rgba(0, 0, 0, 0.3));\n",
              "      fill: #FFFFFF;\n",
              "    }\n",
              "  </style>\n",
              "\n",
              "      <script>\n",
              "        const buttonEl =\n",
              "          document.querySelector('#df-43367832-48d6-42c8-b349-23998f29a715 button.colab-df-convert');\n",
              "        buttonEl.style.display =\n",
              "          google.colab.kernel.accessAllowed ? 'block' : 'none';\n",
              "\n",
              "        async function convertToInteractive(key) {\n",
              "          const element = document.querySelector('#df-43367832-48d6-42c8-b349-23998f29a715');\n",
              "          const dataTable =\n",
              "            await google.colab.kernel.invokeFunction('convertToInteractive',\n",
              "                                                     [key], {});\n",
              "          if (!dataTable) return;\n",
              "\n",
              "          const docLinkHtml = 'Like what you see? Visit the ' +\n",
              "            '<a target=\"_blank\" href=https://colab.research.google.com/notebooks/data_table.ipynb>data table notebook</a>'\n",
              "            + ' to learn more about interactive tables.';\n",
              "          element.innerHTML = '';\n",
              "          dataTable['output_type'] = 'display_data';\n",
              "          await google.colab.output.renderOutput(dataTable, element);\n",
              "          const docLink = document.createElement('div');\n",
              "          docLink.innerHTML = docLinkHtml;\n",
              "          element.appendChild(docLink);\n",
              "        }\n",
              "      </script>\n",
              "    </div>\n",
              "  </div>\n",
              "  "
            ]
          },
          "metadata": {},
          "execution_count": 14
        }
      ]
    },
    {
      "cell_type": "markdown",
      "source": [
        "## Splitting and  Standardizing Data"
      ],
      "metadata": {
        "id": "ks4hcGgrxCc_"
      }
    },
    {
      "cell_type": "code",
      "source": [
        "X = data.drop('Risk_Flag',1)\n",
        "y = data['Risk_Flag']"
      ],
      "metadata": {
        "id": "M8PIfTgUJVbs"
      },
      "execution_count": 15,
      "outputs": []
    },
    {
      "cell_type": "code",
      "source": [
        "X_train,X_test,y_train,y_test = train_test_split(X,y,test_size=0.3,random_state=42)"
      ],
      "metadata": {
        "id": "4p-tJEiVJMvv"
      },
      "execution_count": 16,
      "outputs": []
    },
    {
      "cell_type": "code",
      "source": [
        "print('Train')\n",
        "print(y_train.value_counts())\n",
        "print('\\nTest')\n",
        "print(y_test.value_counts())"
      ],
      "metadata": {
        "colab": {
          "base_uri": "https://localhost:8080/"
        },
        "id": "yMdgPdUHJnPm",
        "outputId": "2f47b6bc-bf69-4b46-d22f-7bf66c4209db"
      },
      "execution_count": 17,
      "outputs": [
        {
          "output_type": "stream",
          "name": "stdout",
          "text": [
            "Train\n",
            "0    154582\n",
            "1     77472\n",
            "Name: Risk_Flag, dtype: int64\n",
            "\n",
            "Test\n",
            "0    66422\n",
            "1    33030\n",
            "Name: Risk_Flag, dtype: int64\n"
          ]
        }
      ]
    },
    {
      "cell_type": "code",
      "source": [
        "# Normalizing data so that all variables follow the same scale (0 to 1)\n",
        "scaler = StandardScaler()\n",
        "\n",
        "# Fit only to the training data\n",
        "scaler.fit(X_train)\n",
        "\n",
        "# Now apply the transformations to the data:\n",
        "X_train = scaler.transform(X_train)\n",
        "X_test = scaler.transform(X_test)"
      ],
      "metadata": {
        "id": "bkkAvQ3zqGzo"
      },
      "execution_count": 18,
      "outputs": []
    },
    {
      "cell_type": "markdown",
      "source": [
        "\n",
        "# **Model Selection**"
      ],
      "metadata": {
        "id": "9Qyc9b2O4dMY"
      }
    },
    {
      "cell_type": "markdown",
      "source": [
        "## Decision Tree"
      ],
      "metadata": {
        "id": "M4lbHusFx6oK"
      }
    },
    {
      "cell_type": "code",
      "source": [
        "dt = DecisionTreeClassifier()\n",
        "dt.fit(X_train,y_train)\n",
        "pred = dt.predict(X_test)\n",
        "\n",
        "dt_accuracy = accuracy_score(y_test,pred)\n",
        "dt_precision = precision_score(y_test,pred)\n",
        "dt_recall = recall_score(y_test,pred)\n",
        "dt_f1_Score = f1_score(y_test,pred)\n",
        "dt_roc_auc_score = roc_auc_score(y_test,pred)\n",
        "\n",
        "print(f'Accuracy: {accuracy_score(y_test,pred)}')\n",
        "print(f'Precision: {precision_score(y_test,pred)}')\n",
        "print(f'Recall: {recall_score(y_test,pred)}')\n",
        "print(f'F1 Score: {f1_score(y_test,pred)}')\n",
        "print(f'Roc_Auc score: {roc_auc_score(y_test,pred)}\\n')\n",
        "\n",
        "print(classification_report(y_test,pred))\n",
        "plot_confusion_matrix(estimator=dt,X=X_test,y_true=y_test)"
      ],
      "metadata": {
        "colab": {
          "base_uri": "https://localhost:8080/",
          "height": 557
        },
        "id": "UicOY1UzKPvi",
        "outputId": "7a77fe80-e31d-4cd7-decf-9a9ce096cecb"
      },
      "execution_count": null,
      "outputs": [
        {
          "output_type": "stream",
          "name": "stdout",
          "text": [
            "Accuracy: 0.9159091823191087\n",
            "Precision: 0.8065975588535064\n",
            "Recall: 0.9823493793521042\n",
            "F1 Score: 0.885840260998949\n",
            "Roc_Auc score: 0.9326097563708218\n",
            "\n",
            "              precision    recall  f1-score   support\n",
            "\n",
            "           0       0.99      0.88      0.93     66422\n",
            "           1       0.81      0.98      0.89     33030\n",
            "\n",
            "    accuracy                           0.92     99452\n",
            "   macro avg       0.90      0.93      0.91     99452\n",
            "weighted avg       0.93      0.92      0.92     99452\n",
            "\n"
          ]
        },
        {
          "output_type": "execute_result",
          "data": {
            "text/plain": [
              "<sklearn.metrics._plot.confusion_matrix.ConfusionMatrixDisplay at 0x7fa87df1d650>"
            ]
          },
          "metadata": {},
          "execution_count": 172
        },
        {
          "output_type": "display_data",
          "data": {
            "text/plain": [
              "<Figure size 432x288 with 2 Axes>"
            ],
            "image/png": "[encoded data removed]"
          },
          "metadata": {
            "needs_background": "light"
          }
        }
      ]
    },
    {
      "cell_type": "markdown",
      "source": [
        "## Random Forest"
      ],
      "metadata": {
        "id": "h-VOeoM8x9lb"
      }
    },
    {
      "cell_type": "code",
      "source": [
        "rf = RandomForestClassifier()\n",
        "rf.fit(X_train,y_train)\n",
        "pred = rf.predict(X_test)\n",
        "\n",
        "rf_accuracy = accuracy_score(y_test,pred)\n",
        "rf_precision = precision_score(y_test,pred)\n",
        "rf_recall = recall_score(y_test,pred)\n",
        "rf_f1_Score = f1_score(y_test,pred)\n",
        "rf_roc_auc_score = roc_auc_score(y_test,pred)\n",
        "\n",
        "print(f'Accuracy: {accuracy_score(y_test,pred)}')\n",
        "print(f'Precision: {precision_score(y_test,pred)}')\n",
        "print(f'Recall: {recall_score(y_test,pred)}')\n",
        "print(f'F1 Score: {f1_score(y_test,pred)}')\n",
        "print(f'Roc_Auc score: {roc_auc_score(y_test,pred)}\\n')\n",
        "\n",
        "print(classification_report(y_test,pred))\n",
        "plot_confusion_matrix(estimator=rf,X=X_test,y_true=y_test)"
      ],
      "metadata": {
        "colab": {
          "base_uri": "https://localhost:8080/",
          "height": 572
        },
        "id": "6i9w94iFOhiz",
        "outputId": "7c2475df-b6ee-46ea-efbd-5768b6d6cc7c"
      },
      "execution_count": 19,
      "outputs": [
        {
          "output_type": "stream",
          "name": "stdout",
          "text": [
            "Accuracy: 0.9362305433777098\n",
            "Precision: 0.8518616179727877\n",
            "Recall: 0.9780805328489253\n",
            "F1 Score: 0.9106181469684586\n",
            "Roc_Auc score: 0.9467500613719199\n",
            "\n",
            "              precision    recall  f1-score   support\n",
            "\n",
            "           0       0.99      0.92      0.95     66422\n",
            "           1       0.85      0.98      0.91     33030\n",
            "\n",
            "    accuracy                           0.94     99452\n",
            "   macro avg       0.92      0.95      0.93     99452\n",
            "weighted avg       0.94      0.94      0.94     99452\n",
            "\n"
          ]
        },
        {
          "output_type": "execute_result",
          "data": {
            "text/plain": [
              "<sklearn.metrics._plot.confusion_matrix.ConfusionMatrixDisplay at 0x7fb7e2058ed0>"
            ]
          },
          "metadata": {},
          "execution_count": 19
        },
        {
          "output_type": "display_data",
          "data": {
            "text/plain": [
              "<Figure size 432x288 with 2 Axes>"
            ],
            "image/png": "[encoded data removed]"
          },
          "metadata": {
            "needs_background": "light"
          }
        }
      ]
    },
    {
      "cell_type": "markdown",
      "source": [
        "## XGBoost"
      ],
      "metadata": {
        "id": "9CgX_-ytx_pB"
      }
    },
    {
      "cell_type": "code",
      "source": [
        "xgb = XGBClassifier(learning_rate=0.1, \n",
        "                    n_estimators=1000, \n",
        "                    use_label_encoder=False,\n",
        "                    max_dept=3,\n",
        "                    n_jobs=-1)\n",
        "xgb.fit(X_train,y_train)\n",
        "pred = xgb.predict(X_test)\n",
        "\n",
        "xgb_accuracy = accuracy_score(y_test,pred)\n",
        "xgb_precision = precision_score(y_test,pred)\n",
        "xgb_recall = recall_score(y_test,pred)\n",
        "xgb_f1_Score = f1_score(y_test,pred)\n",
        "xgb_roc_auc_score = roc_auc_score(y_test,pred)\n",
        "\n",
        "print(f'Accuracy: {accuracy_score(y_test,pred)}')\n",
        "print(f'Precision: {precision_score(y_test,pred)}')\n",
        "print(f'Recall: {recall_score(y_test,pred)}')\n",
        "print(f'F1 Score: {f1_score(y_test,pred)}')\n",
        "print(f'Roc_Auc score: {roc_auc_score(y_test,pred)}\\n')\n",
        "\n",
        "print(classification_report(y_test,pred))\n",
        "plot_confusion_matrix(estimator=xgb,X=X_test,y_true=y_test)"
      ],
      "metadata": {
        "colab": {
          "base_uri": "https://localhost:8080/",
          "height": 557
        },
        "id": "A_egZDtTPh4-",
        "outputId": "98768935-05bb-4dca-9a72-937a613de524"
      },
      "execution_count": null,
      "outputs": [
        {
          "output_type": "stream",
          "name": "stdout",
          "text": [
            "Accuracy: 0.7684410569923179\n",
            "Precision: 0.8156283532159313\n",
            "Recall: 0.3912201029367242\n",
            "F1 Score: 0.5287991324453175\n",
            "Roc_Auc score: 0.6736218547865398\n",
            "\n",
            "              precision    recall  f1-score   support\n",
            "\n",
            "           0       0.76      0.96      0.85     66422\n",
            "           1       0.82      0.39      0.53     33030\n",
            "\n",
            "    accuracy                           0.77     99452\n",
            "   macro avg       0.79      0.67      0.69     99452\n",
            "weighted avg       0.78      0.77      0.74     99452\n",
            "\n"
          ]
        },
        {
          "output_type": "execute_result",
          "data": {
            "text/plain": [
              "<sklearn.metrics._plot.confusion_matrix.ConfusionMatrixDisplay at 0x7fa87df26c10>"
            ]
          },
          "metadata": {},
          "execution_count": 174
        },
        {
          "output_type": "display_data",
          "data": {
            "text/plain": [
              "<Figure size 432x288 with 2 Axes>"
            ],
            "image/png": "[encoded data removed]"
          },
          "metadata": {
            "needs_background": "light"
          }
        }
      ]
    },
    {
      "cell_type": "markdown",
      "source": [
        "## Logistic Regression"
      ],
      "metadata": {
        "id": "ylR_jGptyKQx"
      }
    },
    {
      "cell_type": "code",
      "source": [
        "lr = LogisticRegression()\n",
        "lr.fit(X_train,y_train)\n",
        "pred = lr.predict(X_test)\n",
        "\n",
        "lr_accuracy = accuracy_score(y_test,pred)\n",
        "lr_precision = precision_score(y_test,pred)\n",
        "lr_recall = recall_score(y_test,pred)\n",
        "lr_f1_Score = f1_score(y_test,pred)\n",
        "lr_roc_auc_score = roc_auc_score(y_test,pred)\n",
        "\n",
        "print(f'Accuracy: {accuracy_score(y_test,pred)}')\n",
        "print(f'Precision: {precision_score(y_test,pred)}')\n",
        "print(f'Recall: {recall_score(y_test,pred)}')\n",
        "print(f'F1 Score: {f1_score(y_test,pred)}')\n",
        "print(f'Roc_Auc score: {roc_auc_score(y_test,pred)}\\n')\n",
        "\n",
        "print(classification_report(y_test,pred))\n",
        "plot_confusion_matrix(estimator=lr,X=X_test,y_true=y_test)"
      ],
      "metadata": {
        "colab": {
          "base_uri": "https://localhost:8080/",
          "height": 557
        },
        "id": "mz0jybTeM81_",
        "outputId": "5b7a3f40-781d-4b9e-da29-005397b76dde"
      },
      "execution_count": null,
      "outputs": [
        {
          "output_type": "stream",
          "name": "stdout",
          "text": [
            "Accuracy: 0.6678799823030206\n",
            "Precision: 0.0\n",
            "Recall: 0.0\n",
            "F1 Score: 0.0\n",
            "Roc_Auc score: 0.5\n",
            "\n",
            "              precision    recall  f1-score   support\n",
            "\n",
            "           0       0.67      1.00      0.80     66422\n",
            "           1       0.00      0.00      0.00     33030\n",
            "\n",
            "    accuracy                           0.67     99452\n",
            "   macro avg       0.33      0.50      0.40     99452\n",
            "weighted avg       0.45      0.67      0.53     99452\n",
            "\n"
          ]
        },
        {
          "output_type": "execute_result",
          "data": {
            "text/plain": [
              "<sklearn.metrics._plot.confusion_matrix.ConfusionMatrixDisplay at 0x7fa87de44c50>"
            ]
          },
          "metadata": {},
          "execution_count": 175
        },
        {
          "output_type": "display_data",
          "data": {
            "text/plain": [
              "<Figure size 432x288 with 2 Axes>"
            ],
            "image/png": "[encoded data removed]"
          },
          "metadata": {
            "needs_background": "light"
          }
        }
      ]
    },
    {
      "cell_type": "markdown",
      "source": [
        "## Naive Bayes"
      ],
      "metadata": {
        "id": "0HQ69i2byUoI"
      }
    },
    {
      "cell_type": "code",
      "source": [
        "nb = GaussianNB()\n",
        "nb.fit(X_train,y_train)\n",
        "pred = nb.predict(X_test)\n",
        "\n",
        "nb_accuracy = accuracy_score(y_test,pred)\n",
        "nb_precision = precision_score(y_test,pred)\n",
        "nb_recall = recall_score(y_test,pred)\n",
        "nb_f1_Score = f1_score(y_test,pred)\n",
        "nb_roc_auc_score = roc_auc_score(y_test,pred)\n",
        "\n",
        "print(f'Accuracy: {accuracy_score(y_test,pred)}')\n",
        "print(f'Precision: {precision_score(y_test,pred)}')\n",
        "print(f'Recall: {recall_score(y_test,pred)}')\n",
        "print(f'F1 Score: {f1_score(y_test,pred)}')\n",
        "print(f'Roc_Auc score: {roc_auc_score(y_test,pred)}\\n')\n",
        "\n",
        "print(classification_report(y_test,pred))\n",
        "plot_confusion_matrix(estimator=nb,X=X_test,y_true=y_test)"
      ],
      "metadata": {
        "colab": {
          "base_uri": "https://localhost:8080/",
          "height": 557
        },
        "id": "Z4WZu_EfO432",
        "outputId": "1e50154f-16e6-49a1-cc53-ddccf9d7e027"
      },
      "execution_count": null,
      "outputs": [
        {
          "output_type": "stream",
          "name": "stdout",
          "text": [
            "Accuracy: 0.665597474158388\n",
            "Precision: 0.41302681992337165\n",
            "Recall: 0.01631849833484711\n",
            "F1 Score: 0.031396534148827725\n",
            "Roc_Auc score: 0.5023930873535668\n",
            "\n",
            "              precision    recall  f1-score   support\n",
            "\n",
            "           0       0.67      0.99      0.80     66422\n",
            "           1       0.41      0.02      0.03     33030\n",
            "\n",
            "    accuracy                           0.67     99452\n",
            "   macro avg       0.54      0.50      0.41     99452\n",
            "weighted avg       0.58      0.67      0.54     99452\n",
            "\n"
          ]
        },
        {
          "output_type": "execute_result",
          "data": {
            "text/plain": [
              "<sklearn.metrics._plot.confusion_matrix.ConfusionMatrixDisplay at 0x7fa884b772d0>"
            ]
          },
          "metadata": {},
          "execution_count": 176
        },
        {
          "output_type": "display_data",
          "data": {
            "text/plain": [
              "<Figure size 432x288 with 2 Axes>"
            ],
            "image/png": "[encoded data removed]"
          },
          "metadata": {
            "needs_background": "light"
          }
        }
      ]
    },
    {
      "cell_type": "markdown",
      "source": [
        "## K-Nearest Meighbor (KNN)"
      ],
      "metadata": {
        "id": "bJdwwYQ5yYlp"
      }
    },
    {
      "cell_type": "code",
      "source": [
        "error_rate = []\n",
        "for i in range(1, 10):\n",
        "    knn = KNeighborsClassifier(n_neighbors=i)\n",
        "    knn.fit(X_train, y_train)\n",
        "    knn_predictions = knn.predict(X_test)\n",
        "    accuracy = accuracy_score(y_test, knn_predictions)\n",
        "    print(f\"Accuracy at k = {i} is {accuracy}\")\n",
        "    error_rate.append(np.mean(knn_predictions != y_test))"
      ],
      "metadata": {
        "colab": {
          "base_uri": "https://localhost:8080/"
        },
        "id": "569H7nZFuDCG",
        "outputId": "94eac02a-0214-4057-c952-faa9ec862c7a"
      },
      "execution_count": null,
      "outputs": [
        {
          "output_type": "stream",
          "name": "stdout",
          "text": [
            "Accuracy at k = 1 is 0.887221976430841\n",
            "Accuracy at k = 2 is 0.8518079073321804\n",
            "Accuracy at k = 3 is 0.8847082009411575\n",
            "Accuracy at k = 4 is 0.8655230664038933\n",
            "Accuracy at k = 5 is 0.8802035152636448\n",
            "Accuracy at k = 6 is 0.8693741704540884\n",
            "Accuracy at k = 7 is 0.8753469010175763\n",
            "Accuracy at k = 8 is 0.8685898725013071\n",
            "Accuracy at k = 9 is 0.8756183887704622\n"
          ]
        }
      ]
    },
    {
      "cell_type": "code",
      "source": [
        "knn = KNeighborsClassifier(n_neighbors=1)\n",
        "knn.fit(X_train,y_train)\n",
        "pred = knn.predict(X_test)\n",
        "\n",
        "knn_accuracy = accuracy_score(y_test,pred)\n",
        "knn_precision = precision_score(y_test,pred)\n",
        "knn_recall = recall_score(y_test,pred)\n",
        "knn_f1_Score = f1_score(y_test,pred)\n",
        "knn_roc_auc_score = roc_auc_score(y_test,pred)\n",
        "\n",
        "print(f'Accuracy: {accuracy_score(y_test,pred)}')\n",
        "print(f'Precision: {precision_score(y_test,pred)}')\n",
        "print(f'Recall: {recall_score(y_test,pred)}')\n",
        "print(f'F1 Score: {f1_score(y_test,pred)}')\n",
        "print(f'Roc_Auc score: {roc_auc_score(y_test,pred)}\\n')\n",
        "\n",
        "print(classification_report(y_test,pred))\n",
        "plot_confusion_matrix(estimator=knn,X=X_test,y_true=y_test)"
      ],
      "metadata": {
        "colab": {
          "base_uri": "https://localhost:8080/",
          "height": 557
        },
        "id": "sIQBiTNIPPhl",
        "outputId": "f336a737-a46e-4ae6-d8c5-33c2db13bb9d"
      },
      "execution_count": null,
      "outputs": [
        {
          "output_type": "stream",
          "name": "stdout",
          "text": [
            "Accuracy: 0.887221976430841\n",
            "Precision: 0.8142503169298144\n",
            "Recall: 0.855616106569785\n",
            "F1 Score: 0.8344208568307302\n",
            "Roc_Auc score: 0.8792774459559956\n",
            "\n",
            "              precision    recall  f1-score   support\n",
            "\n",
            "           0       0.93      0.90      0.91     66422\n",
            "           1       0.81      0.86      0.83     33030\n",
            "\n",
            "    accuracy                           0.89     99452\n",
            "   macro avg       0.87      0.88      0.87     99452\n",
            "weighted avg       0.89      0.89      0.89     99452\n",
            "\n"
          ]
        },
        {
          "output_type": "execute_result",
          "data": {
            "text/plain": [
              "<sklearn.metrics._plot.confusion_matrix.ConfusionMatrixDisplay at 0x7fa87dea7410>"
            ]
          },
          "metadata": {},
          "execution_count": 177
        },
        {
          "output_type": "display_data",
          "data": {
            "text/plain": [
              "<Figure size 432x288 with 2 Axes>"
            ],
            "image/png": "[encoded data removed]"
          },
          "metadata": {
            "needs_background": "light"
          }
        }
      ]
    },
    {
      "cell_type": "markdown",
      "source": [
        "## Artificial Neural Network (ANN)"
      ],
      "metadata": {
        "id": "OgbVesXZywyt"
      }
    },
    {
      "cell_type": "code",
      "source": [
        "ncols = len(X.columns)\n",
        "hidden_layers = (ncols,ncols,ncols)\n",
        "mlpc = MLPClassifier(hidden_layer_sizes=hidden_layers, max_iter=1000, random_state=42)\n",
        "mlpc.fit(X_train,y_train)\n",
        "pred = mlpc.predict(X_test)\n",
        "\n",
        "mlpc_accuracy = accuracy_score(y_test,pred)\n",
        "mlpc_precision = precision_score(y_test,pred)\n",
        "mlpc_recall = recall_score(y_test,pred)\n",
        "mlpc_f1_Score = f1_score(y_test,pred)\n",
        "mlpc_roc_auc_score = roc_auc_score(y_test,pred)\n",
        "\n",
        "print(f'Accuracy: {accuracy_score(y_test,pred)}')\n",
        "print(f'Precision: {precision_score(y_test,pred)}')\n",
        "print(f'Recall: {recall_score(y_test,pred)}')\n",
        "print(f'F1 Score: {f1_score(y_test,pred)}')\n",
        "print(f'Roc_Auc score: {roc_auc_score(y_test,pred)}\\n')\n",
        "\n",
        "print(classification_report(y_test,pred))\n",
        "plot_confusion_matrix(estimator=mlpc,X=X_test,y_true=y_test)"
      ],
      "metadata": {
        "colab": {
          "base_uri": "https://localhost:8080/",
          "height": 558
        },
        "id": "AKMAmuzAP-2F",
        "outputId": "2bc6359b-ab3e-4e49-e27d-ffd522cc1fd6"
      },
      "execution_count": null,
      "outputs": [
        {
          "output_type": "stream",
          "name": "stdout",
          "text": [
            "Accuracy: 0.696577243293247\n",
            "Precision: 0.6003375052735199\n",
            "Recall: 0.2584922797456857\n",
            "F1 Score: 0.36138152882417673\n",
            "Roc_Auc score: 0.586459111478636\n",
            "\n",
            "              precision    recall  f1-score   support\n",
            "\n",
            "           0       0.71      0.91      0.80     66422\n",
            "           1       0.60      0.26      0.36     33030\n",
            "\n",
            "    accuracy                           0.70     99452\n",
            "   macro avg       0.66      0.59      0.58     99452\n",
            "weighted avg       0.68      0.70      0.66     99452\n",
            "\n"
          ]
        },
        {
          "output_type": "execute_result",
          "data": {
            "text/plain": [
              "<sklearn.metrics._plot.confusion_matrix.ConfusionMatrixDisplay at 0x7fa87e544c50>"
            ]
          },
          "metadata": {},
          "execution_count": 178
        },
        {
          "output_type": "display_data",
          "data": {
            "text/plain": [
              "<Figure size 432x288 with 2 Axes>"
            ],
            "image/png": "[encoded data removed]"
          },
          "metadata": {
            "needs_background": "light"
          }
        }
      ]
    },
    {
      "cell_type": "markdown",
      "source": [
        "## Keras Tensorflow"
      ],
      "metadata": {
        "id": "PAwQ8CFqzIwC"
      }
    },
    {
      "cell_type": "code",
      "source": [
        "tf_model = keras.Sequential([\n",
        "    keras.layers.Dense(256, input_shape=(11,), activation='relu'),\n",
        "    keras.layers.Dense(64, activation='relu'),\n",
        "    keras.layers.Dense(16, activation='relu'),\n",
        "    keras.layers.Dense(1, activation='sigmoid')\n",
        "])"
      ],
      "metadata": {
        "id": "BwB20tvEVC8a"
      },
      "execution_count": null,
      "outputs": []
    },
    {
      "cell_type": "code",
      "source": [
        "tf_model.compile(\n",
        "    optimizer='adam',\n",
        "    loss='binary_crossentropy',\n",
        "    metrics=['accuracy']\n",
        ")"
      ],
      "metadata": {
        "id": "pAo-04m5VKbd"
      },
      "execution_count": null,
      "outputs": []
    },
    {
      "cell_type": "code",
      "source": [
        "history = tf_model.fit(X_train, y_train, validation_data=(X_test, y_test), epochs=50,batch_size=64)\n"
      ],
      "metadata": {
        "colab": {
          "base_uri": "https://localhost:8080/"
        },
        "id": "oNMh-Fw9VO89",
        "outputId": "d4d12360-2d92-49af-d095-5d0608818487"
      },
      "execution_count": null,
      "outputs": [
        {
          "output_type": "stream",
          "name": "stdout",
          "text": [
            "Epoch 1/50\n",
            "3626/3626 [==============================] - 15s 4ms/step - loss: 0.6013 - accuracy: 0.6824 - val_loss: 0.5578 - val_accuracy: 0.7164\n",
            "Epoch 2/50\n",
            "3626/3626 [==============================] - 10s 3ms/step - loss: 0.5177 - accuracy: 0.7468 - val_loss: 0.4905 - val_accuracy: 0.7648\n",
            "Epoch 3/50\n",
            "3626/3626 [==============================] - 10s 3ms/step - loss: 0.4635 - accuracy: 0.7916 - val_loss: 0.4471 - val_accuracy: 0.8079\n",
            "Epoch 4/50\n",
            "3626/3626 [==============================] - 11s 3ms/step - loss: 0.4343 - accuracy: 0.8144 - val_loss: 0.4256 - val_accuracy: 0.8155\n",
            "Epoch 5/50\n",
            "3626/3626 [==============================] - 17s 5ms/step - loss: 0.4143 - accuracy: 0.8278 - val_loss: 0.4089 - val_accuracy: 0.8341\n",
            "Epoch 6/50\n",
            "3626/3626 [==============================] - 14s 4ms/step - loss: 0.4004 - accuracy: 0.8361 - val_loss: 0.4044 - val_accuracy: 0.8309\n",
            "Epoch 7/50\n",
            "3626/3626 [==============================] - 11s 3ms/step - loss: 0.3889 - accuracy: 0.8427 - val_loss: 0.3870 - val_accuracy: 0.8472\n",
            "Epoch 8/50\n",
            "3626/3626 [==============================] - 11s 3ms/step - loss: 0.3795 - accuracy: 0.8480 - val_loss: 0.3878 - val_accuracy: 0.8464\n",
            "Epoch 9/50\n",
            "3626/3626 [==============================] - 10s 3ms/step - loss: 0.3722 - accuracy: 0.8514 - val_loss: 0.3890 - val_accuracy: 0.8372\n",
            "Epoch 10/50\n",
            "3626/3626 [==============================] - 11s 3ms/step - loss: 0.3654 - accuracy: 0.8548 - val_loss: 0.3770 - val_accuracy: 0.8542\n",
            "Epoch 11/50\n",
            "3626/3626 [==============================] - 11s 3ms/step - loss: 0.3602 - accuracy: 0.8570 - val_loss: 0.3712 - val_accuracy: 0.8563\n",
            "Epoch 12/50\n",
            "3626/3626 [==============================] - 10s 3ms/step - loss: 0.3547 - accuracy: 0.8601 - val_loss: 0.3704 - val_accuracy: 0.8474\n",
            "Epoch 13/50\n",
            "3626/3626 [==============================] - 11s 3ms/step - loss: 0.3499 - accuracy: 0.8616 - val_loss: 0.3630 - val_accuracy: 0.8591\n",
            "Epoch 14/50\n",
            "3626/3626 [==============================] - 11s 3ms/step - loss: 0.3460 - accuracy: 0.8629 - val_loss: 0.3697 - val_accuracy: 0.8594\n",
            "Epoch 15/50\n",
            "3626/3626 [==============================] - 11s 3ms/step - loss: 0.3430 - accuracy: 0.8642 - val_loss: 0.3566 - val_accuracy: 0.8672\n",
            "Epoch 16/50\n",
            "3626/3626 [==============================] - 10s 3ms/step - loss: 0.3383 - accuracy: 0.8661 - val_loss: 0.3502 - val_accuracy: 0.8652\n",
            "Epoch 17/50\n",
            "3626/3626 [==============================] - 11s 3ms/step - loss: 0.3351 - accuracy: 0.8668 - val_loss: 0.3477 - val_accuracy: 0.8638\n",
            "Epoch 18/50\n",
            "3626/3626 [==============================] - 10s 3ms/step - loss: 0.3325 - accuracy: 0.8681 - val_loss: 0.3506 - val_accuracy: 0.8592\n",
            "Epoch 19/50\n",
            "3626/3626 [==============================] - 10s 3ms/step - loss: 0.3282 - accuracy: 0.8693 - val_loss: 0.3505 - val_accuracy: 0.8651\n",
            "Epoch 20/50\n",
            "3626/3626 [==============================] - 10s 3ms/step - loss: 0.3264 - accuracy: 0.8702 - val_loss: 0.3574 - val_accuracy: 0.8501\n",
            "Epoch 21/50\n",
            "3626/3626 [==============================] - 10s 3ms/step - loss: 0.3236 - accuracy: 0.8719 - val_loss: 0.3505 - val_accuracy: 0.8677\n",
            "Epoch 22/50\n",
            "3626/3626 [==============================] - 11s 3ms/step - loss: 0.3210 - accuracy: 0.8727 - val_loss: 0.3539 - val_accuracy: 0.8637\n",
            "Epoch 23/50\n",
            "3626/3626 [==============================] - 10s 3ms/step - loss: 0.3194 - accuracy: 0.8725 - val_loss: 0.3376 - val_accuracy: 0.8671\n",
            "Epoch 24/50\n",
            "3626/3626 [==============================] - 11s 3ms/step - loss: 0.3165 - accuracy: 0.8749 - val_loss: 0.3421 - val_accuracy: 0.8586\n",
            "Epoch 25/50\n",
            "3626/3626 [==============================] - 12s 3ms/step - loss: 0.3148 - accuracy: 0.8748 - val_loss: 0.3426 - val_accuracy: 0.8597\n",
            "Epoch 26/50\n",
            "3626/3626 [==============================] - 11s 3ms/step - loss: 0.3126 - accuracy: 0.8756 - val_loss: 0.3405 - val_accuracy: 0.8655\n",
            "Epoch 27/50\n",
            "3626/3626 [==============================] - 11s 3ms/step - loss: 0.3113 - accuracy: 0.8760 - val_loss: 0.3368 - val_accuracy: 0.8673\n",
            "Epoch 28/50\n",
            "3626/3626 [==============================] - 11s 3ms/step - loss: 0.3091 - accuracy: 0.8767 - val_loss: 0.3335 - val_accuracy: 0.8683\n",
            "Epoch 29/50\n",
            "3626/3626 [==============================] - 10s 3ms/step - loss: 0.3068 - accuracy: 0.8775 - val_loss: 0.3374 - val_accuracy: 0.8640\n",
            "Epoch 30/50\n",
            "3626/3626 [==============================] - 10s 3ms/step - loss: 0.3054 - accuracy: 0.8790 - val_loss: 0.3318 - val_accuracy: 0.8704\n",
            "Epoch 31/50\n",
            "3626/3626 [==============================] - 11s 3ms/step - loss: 0.3033 - accuracy: 0.8793 - val_loss: 0.3362 - val_accuracy: 0.8770\n",
            "Epoch 32/50\n",
            "3626/3626 [==============================] - 11s 3ms/step - loss: 0.3021 - accuracy: 0.8799 - val_loss: 0.3276 - val_accuracy: 0.8725\n",
            "Epoch 33/50\n",
            "3626/3626 [==============================] - 11s 3ms/step - loss: 0.3006 - accuracy: 0.8806 - val_loss: 0.3329 - val_accuracy: 0.8693\n",
            "Epoch 34/50\n",
            "3626/3626 [==============================] - 10s 3ms/step - loss: 0.2991 - accuracy: 0.8815 - val_loss: 0.3292 - val_accuracy: 0.8754\n",
            "Epoch 35/50\n",
            "3626/3626 [==============================] - 11s 3ms/step - loss: 0.2979 - accuracy: 0.8818 - val_loss: 0.3282 - val_accuracy: 0.8692\n",
            "Epoch 36/50\n",
            "3626/3626 [==============================] - 10s 3ms/step - loss: 0.2967 - accuracy: 0.8819 - val_loss: 0.3265 - val_accuracy: 0.8736\n",
            "Epoch 37/50\n",
            "3626/3626 [==============================] - 11s 3ms/step - loss: 0.2947 - accuracy: 0.8820 - val_loss: 0.3211 - val_accuracy: 0.8738\n",
            "Epoch 38/50\n",
            "3626/3626 [==============================] - 11s 3ms/step - loss: 0.2935 - accuracy: 0.8828 - val_loss: 0.3268 - val_accuracy: 0.8762\n",
            "Epoch 39/50\n",
            "3626/3626 [==============================] - 11s 3ms/step - loss: 0.2925 - accuracy: 0.8835 - val_loss: 0.3192 - val_accuracy: 0.8749\n",
            "Epoch 40/50\n",
            "3626/3626 [==============================] - 10s 3ms/step - loss: 0.2917 - accuracy: 0.8837 - val_loss: 0.3230 - val_accuracy: 0.8714\n",
            "Epoch 41/50\n",
            "3626/3626 [==============================] - 11s 3ms/step - loss: 0.2899 - accuracy: 0.8844 - val_loss: 0.3283 - val_accuracy: 0.8683\n",
            "Epoch 42/50\n",
            "3626/3626 [==============================] - 11s 3ms/step - loss: 0.2891 - accuracy: 0.8850 - val_loss: 0.3188 - val_accuracy: 0.8746\n",
            "Epoch 43/50\n",
            "3626/3626 [==============================] - 11s 3ms/step - loss: 0.2876 - accuracy: 0.8853 - val_loss: 0.3299 - val_accuracy: 0.8619\n",
            "Epoch 44/50\n",
            "3626/3626 [==============================] - 11s 3ms/step - loss: 0.2863 - accuracy: 0.8862 - val_loss: 0.3170 - val_accuracy: 0.8726\n",
            "Epoch 45/50\n",
            "3626/3626 [==============================] - 10s 3ms/step - loss: 0.2850 - accuracy: 0.8862 - val_loss: 0.3210 - val_accuracy: 0.8802\n",
            "Epoch 46/50\n",
            "3626/3626 [==============================] - 10s 3ms/step - loss: 0.2838 - accuracy: 0.8868 - val_loss: 0.3183 - val_accuracy: 0.8760\n",
            "Epoch 47/50\n",
            "3626/3626 [==============================] - 11s 3ms/step - loss: 0.2828 - accuracy: 0.8868 - val_loss: 0.3174 - val_accuracy: 0.8780\n",
            "Epoch 48/50\n",
            "3626/3626 [==============================] - 10s 3ms/step - loss: 0.2818 - accuracy: 0.8871 - val_loss: 0.3154 - val_accuracy: 0.8771\n",
            "Epoch 49/50\n",
            "3626/3626 [==============================] - 10s 3ms/step - loss: 0.2808 - accuracy: 0.8881 - val_loss: 0.3166 - val_accuracy: 0.8779\n",
            "Epoch 50/50\n",
            "3626/3626 [==============================] - 10s 3ms/step - loss: 0.2806 - accuracy: 0.8876 - val_loss: 0.3128 - val_accuracy: 0.8761\n"
          ]
        }
      ]
    },
    {
      "cell_type": "code",
      "source": [
        "#summarize history for accuracy\n",
        "fig, ax = plt.subplots(figsize=(10, 8))\n",
        "plt.plot(history.history['accuracy'])\n",
        "plt.plot(history.history['val_accuracy'])\n",
        "plt.title('Training and Validation Accuracy')\n",
        "plt.ylabel('value')\n",
        "plt.xlabel('epoch')\n",
        "plt.legend(['Training Accuracy', 'Validation Accuracy'], loc='upper left')\n",
        "plt.show()"
      ],
      "metadata": {
        "colab": {
          "base_uri": "https://localhost:8080/",
          "height": 513
        },
        "id": "N53CWvZoVVod",
        "outputId": "a6cc050b-0d72-43fd-af19-264ba1c5d101"
      },
      "execution_count": null,
      "outputs": [
        {
          "output_type": "display_data",
          "data": {
            "text/plain": [
              "<Figure size 720x576 with 1 Axes>"
            ],
            "image/png": "[encoded data removed]"
          },
          "metadata": {
            "needs_background": "light"
          }
        }
      ]
    },
    {
      "cell_type": "code",
      "source": [
        "#summarize history for loss\n",
        "fig, ax = plt.subplots(figsize=(10, 8))\n",
        "plt.plot(history.history['loss'])\n",
        "plt.plot(history.history['val_loss'])\n",
        "plt.title('Training and Validation Loss')\n",
        "plt.ylabel('value')\n",
        "plt.xlabel('epoch')\n",
        "plt.legend(['Training Loss', 'Validation Los'], loc='upper left')\n",
        "plt.show()"
      ],
      "metadata": {
        "colab": {
          "base_uri": "https://localhost:8080/",
          "height": 513
        },
        "id": "95uP6i9DXQNF",
        "outputId": "45af876c-75f7-4e51-be28-1e085a28e246"
      },
      "execution_count": null,
      "outputs": [
        {
          "output_type": "display_data",
          "data": {
            "text/plain": [
              "<Figure size 720x576 with 1 Axes>"
            ],
            "image/png": "[encoded data removed]"
          },
          "metadata": {
            "needs_background": "light"
          }
        }
      ]
    },
    {
      "cell_type": "code",
      "source": [
        "tf_accuracy = history.history['val_accuracy']\n",
        "tf_accuracy = tf_accuracy[-1]\n",
        "\n",
        "print(f'Accuracy: {tf_accuracy}')"
      ],
      "metadata": {
        "colab": {
          "base_uri": "https://localhost:8080/"
        },
        "id": "EUjKf5Z2GjYr",
        "outputId": "77ff74bf-2d9c-4616-dc10-f70ecbd53197"
      },
      "execution_count": null,
      "outputs": [
        {
          "output_type": "stream",
          "name": "stdout",
          "text": [
            "Accuracy: 0.8760809302330017\n"
          ]
        }
      ]
    },
    {
      "cell_type": "markdown",
      "source": [
        "## Comparing Performances"
      ],
      "metadata": {
        "id": "h_QZC8p3K70K"
      }
    },
    {
      "cell_type": "code",
      "source": [
        "print(\"\\nAccuracy of Decision Tree: \\n\", round(dt_accuracy, 2))\n",
        "print(\"\\nAccuracy of Random Forest: \\n\", round(rf_accuracy,2))\n",
        "print(\"\\nAccuracy of XGBoost: \\n\", round(xgb_accuracy,2))\n",
        "print(\"\\nAccuracy of Logistic Regression: \\n\",round(lr_accuracy,2))\n",
        "print(\"\\nAccuracy of Naive Bayes: \\n\", round(nb_accuracy,2))\n",
        "print(\"\\nAccuracy of KNN: \\n\", round(knn_accuracy,2))\n",
        "print(\"\\nAccuracy of MLPC: \\n\", round(mlpc_accuracy,2))\n",
        "print(\"\\nAccuracy of Tensorflow: \\n\", round(tf_accuracy,2))"
      ],
      "metadata": {
        "colab": {
          "base_uri": "https://localhost:8080/"
        },
        "id": "Zb3hpjRPK6Yr",
        "outputId": "ecff863f-6ffe-4dc3-c199-4e649d4a1d44"
      },
      "execution_count": null,
      "outputs": [
        {
          "output_type": "stream",
          "name": "stdout",
          "text": [
            "\n",
            "Accuracy of Decision Tree: \n",
            " 0.92\n",
            "\n",
            "Accuracy of Random Forest: \n",
            " 0.94\n",
            "\n",
            "Accuracy of XGBoost: \n",
            " 0.77\n",
            "\n",
            "Accuracy of Logistic Regression: \n",
            " 0.67\n",
            "\n",
            "Accuracy of Naive Bayes: \n",
            " 0.67\n",
            "\n",
            "Accuracy of KNN: \n",
            " 0.89\n",
            "\n",
            "Accuracy of MLPC: \n",
            " 0.7\n",
            "\n",
            "Accuracy of Tensorflow: \n",
            " 0.88\n"
          ]
        }
      ]
    },
    {
      "cell_type": "markdown",
      "source": [
        "* From the above results Random Forest has the Accuracy closest to 1, so from that result we can say that Random forest is the right model in this scenario."
      ],
      "metadata": {
        "id": "33ERK7oZ1MzI"
      }
    },
    {
      "cell_type": "markdown",
      "source": [
        "## The most important feature in classifying transactions."
      ],
      "metadata": {
        "id": "3H-E-jhfbVWi"
      }
    },
    {
      "cell_type": "markdown",
      "source": [
        "Let's take a look at what features ended up being the most important in classifying transactions."
      ],
      "metadata": {
        "id": "5q_8XIP3bjAI"
      }
    },
    {
      "cell_type": "code",
      "source": [
        "ncols = len(X.columns)\n",
        "x = np.arange(ncols)\n",
        "\n",
        "# getting importances of features\n",
        "importances = rf.feature_importances_\n",
        "\n",
        "# getting the indices of the most important feature to least important\n",
        "sort_ind = np.argsort(importances)[::-1]\n",
        "plt.figure(figsize=(18,7))\n",
        "plt.bar(x, importances[sort_ind])\n",
        "plt.xticks(x,tuple(X.columns.values[sort_ind]))\n",
        "plt.title(\"Important Features: Greatest to Least\")\n",
        "plt.show()"
      ],
      "metadata": {
        "colab": {
          "base_uri": "https://localhost:8080/",
          "height": 445
        },
        "id": "ZqQ6AeEubk_e",
        "outputId": "20d9aa47-b297-47f8-91f2-adc283b0bbc3"
      },
      "execution_count": 20,
      "outputs": [
        {
          "output_type": "display_data",
          "data": {
            "text/plain": [
              "<Figure size 1296x504 with 1 Axes>"
            ],
            "image/png": "[encoded data removed]"
          },
          "metadata": {
            "needs_background": "light"
          }
        }
      ]
    },
    {
      "cell_type": "markdown",
      "source": [
        "From the result above, it seems that Income ended by the most important feature by far for classifying who possible defaulters followed by CITY and Profession."
      ],
      "metadata": {
        "id": "VrwMzvJ3b_iD"
      }
    },
    {
      "cell_type": "markdown",
      "source": [
        "# **Conclusion**"
      ],
      "metadata": {
        "id": "HLNO6_n0QnAq"
      }
    },
    {
      "cell_type": "markdown",
      "source": [
        "* The dataset has 13 columns (variables) and has 252,000 observations, and the ratio of non-defaulter to defaulter customers is heavily skewed towads non-defaulter customers.\n",
        "* Random Forest Classifier is the best model in the given situation as it is fairly accurate in predicting both defaulter and non-defaulter customers, and has the highest accuracy\n",
        "* The most important feature by far for classifying transactions is Income followed by CITY and Profession."
      ],
      "metadata": {
        "id": "CnTG79Kz17c9"
      }
    }
  ]
}